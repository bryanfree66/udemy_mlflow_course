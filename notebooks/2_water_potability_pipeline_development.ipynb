{
 "cells": [
  {
   "cell_type": "markdown",
   "id": "0e6e0b20",
   "metadata": {},
   "source": [
    "# Water Potability Pipeline Development Notebook"
   ]
  },
  {
   "cell_type": "code",
   "execution_count": 12,
   "id": "3977c38b",
   "metadata": {},
   "outputs": [],
   "source": [
    "import sys\n",
    "import pyspark\n",
    "import pyspark.sql.functions as F\n",
    "import pyspark.sql.types as T\n",
    "from pyspark.sql import SparkSession, Window, DataFrame\n",
    "from pyspark.mllib.stat import Statistics\n",
    "from pyspark.ml.feature import Imputer\n",
    "from pipeline import feature_pipeline\n",
    "from pyspark.ml.feature import VectorAssembler, PolynomialExpansion, StandardScaler\n",
    "sys.path.append('/home/jovyan/work')"
   ]
  },
  {
   "cell_type": "code",
   "execution_count": 13,
   "id": "38dae191",
   "metadata": {},
   "outputs": [],
   "source": [
    "spark = SparkSession.builder.getOrCreate()\n",
    "spark.sparkContext.setLogLevel('ERROR')"
   ]
  },
  {
   "cell_type": "code",
   "execution_count": 14,
   "id": "e6f7aeb1",
   "metadata": {},
   "outputs": [],
   "source": [
    "df_train = spark.read.csv('../data/water_potability_train.csv',inferSchema=True, header=True)"
   ]
  },
  {
   "cell_type": "code",
   "execution_count": 15,
   "id": "bac6ec8a",
   "metadata": {},
   "outputs": [
    {
     "name": "stdout",
     "output_type": "stream",
     "text": [
      "Train record count: 2353\n"
     ]
    }
   ],
   "source": [
    "print('Train record count: {}'.format(df_train.count()))"
   ]
  },
  {
   "cell_type": "markdown",
   "id": "c1e48dc8",
   "metadata": {},
   "source": [
    "## Step 2 - Feature Pipeline Development"
   ]
  },
  {
   "cell_type": "markdown",
   "id": "26827a19",
   "metadata": {},
   "source": [
    "### Impute Missing Values"
   ]
  },
  {
   "cell_type": "code",
   "execution_count": 16,
   "id": "5430eee1",
   "metadata": {},
   "outputs": [
    {
     "name": "stdout",
     "output_type": "stream",
     "text": [
      "+---+-----------------+------------------+------------------+------------------+------------------+------------------+------------------+------------------+------------------+----------+\n",
      "|_c0|               ph|          Hardness|            Solids|       Chloramines|           Sulfate|      Conductivity|    Organic_carbon|   Trihalomethanes|         Turbidity|Potability|\n",
      "+---+-----------------+------------------+------------------+------------------+------------------+------------------+------------------+------------------+------------------+----------+\n",
      "|  0|7.065394544064872|  98.3679148956603| 28415.57583214058|10.558949998467961|  296.843207792478|505.24026927891407|12.882614472289333| 85.32995534051292| 4.119087300328971|         1|\n",
      "|  1|7.065394544064872|103.46475866009455| 27420.16742458204| 8.417305032089528| 333.8051408041043|485.97450045781375|11.351132730708514|  67.8699636759021| 4.620793451653219|         0|\n",
      "|  2|7.065394544064872|108.91662923953173|14476.335695268315| 5.398162017711099|  281.198274407849| 512.2323064106689|15.013793389990155|  86.6714587149138| 3.895572062268123|         1|\n",
      "|  3|7.065394544064872|113.17596460727073|  9943.92978526269| 6.337137942441213|354.29756524708256| 415.3383368798727| 19.67616854859483| 23.07580599653685| 3.787475537347365|         1|\n",
      "|  4|7.065394544064872| 114.7335449715346| 13677.99404000127| 9.981200455815905|441.82677662870003|  524.000355172102|11.384858471731945| 71.15328465919002|3.2938483740192734|         1|\n",
      "|  5|7.065394544064872|116.90547929864171| 27151.31290232548|10.185348221604038| 333.8051408041043| 372.0023185483472| 13.50723191973185| 63.27369649272616|3.5162378046280005|         1|\n",
      "|  6|7.065394544064872|129.88329651550774| 8906.975623139486| 6.827900879738104| 327.5517886889327| 525.2247169516716| 17.65741087353132|32.185378220561205|3.8421139861035956|         1|\n",
      "|  7|7.065394544064872|129.89057234567383|34415.853145873094| 6.321928990361139| 304.5352242338838| 470.3291685421987| 18.59940992382127| 72.40363386888095|  4.40558600033858|         0|\n",
      "|  8|7.065394544064872|130.55856146255113|17429.584949659697|6.3176544269347366| 322.0595875907542| 524.6456427603447|15.318048390229194| 75.37640813561349| 5.541322279631281|         0|\n",
      "|  9|7.065394544064872|134.67925657493728|30211.832990855128| 4.792361012310782|234.28562144513518| 391.8209641138389|18.999153524212886| 66.27958491438079|3.8408887616175593|         1|\n",
      "+---+-----------------+------------------+------------------+------------------+------------------+------------------+------------------+------------------+------------------+----------+\n",
      "only showing top 10 rows\n",
      "\n"
     ]
    }
   ],
   "source": [
    "imputer = Imputer(\n",
    "    inputCols=['ph', 'Sulfate', 'Trihalomethanes'],\n",
    "    outputCols=['ph', 'Sulfate', 'Trihalomethanes']\n",
    ")\n",
    "df_imputed = imputer.setStrategy(\"mean\").fit(df_train).transform(df_train)\n",
    "df_imputed.show(10)"
   ]
  },
  {
   "cell_type": "markdown",
   "id": "3443a01c",
   "metadata": {},
   "source": [
    "### Create Feature Vector"
   ]
  },
  {
   "cell_type": "code",
   "execution_count": 17,
   "id": "0960ba09",
   "metadata": {},
   "outputs": [
    {
     "data": {
      "text/plain": [
       "[Row(Features=DenseVector([98.3679, 28415.5758, 10.5589, 505.2403, 12.8826, 4.1191])),\n",
       " Row(Features=DenseVector([103.4648, 27420.1674, 8.4173, 485.9745, 11.3511, 4.6208])),\n",
       " Row(Features=DenseVector([108.9166, 14476.3357, 5.3982, 512.2323, 15.0138, 3.8956]))]"
      ]
     },
     "execution_count": 17,
     "metadata": {},
     "output_type": "execute_result"
    }
   ],
   "source": [
    "vec_assembler = VectorAssembler(\n",
    "    inputCols=['Hardness','Solids','Chloramines','Conductivity','Organic_carbon',\n",
    "               'Turbidity'],\n",
    "    outputCol='Features'\n",
    ")\n",
    "df_features = vec_assembler.transform(df_imputed)\n",
    "df_features.select('Features').take(3)"
   ]
  },
  {
   "cell_type": "markdown",
   "id": "cd261c4a",
   "metadata": {},
   "source": [
    "### Scale the Features"
   ]
  },
  {
   "cell_type": "code",
   "execution_count": 18,
   "id": "0a2d468c",
   "metadata": {},
   "outputs": [
    {
     "data": {
      "text/plain": [
       "[Row(ScaledFeatures=DenseVector([-2.9992, 0.7207, 2.1483, 0.9852, -0.4139, 0.1916])),\n",
       " Row(ScaledFeatures=DenseVector([-2.844, 0.6065, 0.8047, 0.7464, -0.8819, 0.8329])),\n",
       " Row(ScaledFeatures=DenseVector([-2.678, -0.8779, -1.0894, 1.0718, 0.2373, -0.0941]))]"
      ]
     },
     "execution_count": 18,
     "metadata": {},
     "output_type": "execute_result"
    }
   ],
   "source": [
    "scaler = StandardScaler(\n",
    "    inputCol='Features', outputCol='ScaledFeatures',\n",
    "    withStd=True, withMean=True\n",
    ")\n",
    "\n",
    "scalerFit = scaler.fit(df_features)\n",
    "\n",
    "df_features_scaled = scalerFit.transform(df_features)\n",
    "df_features_scaled.select('ScaledFeatures').take(3)"
   ]
  },
  {
   "cell_type": "markdown",
   "id": "e2d05c65",
   "metadata": {},
   "source": [
    "### Perform Polynomial Feature Expansion"
   ]
  },
  {
   "cell_type": "code",
   "execution_count": 19,
   "id": "8eaa977a",
   "metadata": {},
   "outputs": [
    {
     "data": {
      "text/plain": [
       "[Row(PolynomialFeatures=DenseVector([-2.9992, 8.9953, -26.9789, 0.7207, -2.1615, 6.4829, 0.5194, -1.5578, 0.3743, 2.1483, -6.4432, 19.3247, 1.5483, -4.6436, 1.1158, 4.6152, -13.842, 3.3262, 9.9149, 0.9852, -2.9547, 8.8619, 0.71, -2.1295, 0.5117, 2.1164, -6.3476, 1.5253, 4.5467, 0.9705, -2.9109, 0.6995, 2.085, 0.9561, -0.4139, 1.2414, -3.7232, -0.2983, 0.8947, -0.215, -0.8892, 2.6669, -0.6408, -1.9103, -0.4078, 1.223, -0.2939, -0.876, -0.4017, 0.1713, -0.5138, 0.1235, 0.368, 0.1688, -0.0709, 0.1916, -0.5748, 1.7238, 0.1381, -0.4142, 0.0995, 0.4117, -1.2347, 0.2967, 0.8844, 0.1888, -0.5662, 0.1361, 0.4056, 0.186, -0.0793, 0.2379, -0.0572, -0.1704, -0.0781, 0.0328, 0.0367, -0.1101, 0.0265, 0.0789, 0.0362, -0.0152, 0.007]))]"
      ]
     },
     "execution_count": 19,
     "metadata": {},
     "output_type": "execute_result"
    }
   ],
   "source": [
    "poly_feature_exp = PolynomialExpansion(degree=3, inputCol=\"ScaledFeatures\", outputCol=\"PolynomialFeatures\")\n",
    "poly_features = poly_feature_exp.transform(df_features_scaled)\n",
    "poly_features.select('PolynomialFeatures').take(1)"
   ]
  },
  {
   "cell_type": "markdown",
   "id": "8bd1cdd8",
   "metadata": {},
   "source": [
    "## Test Pipeline Code"
   ]
  },
  {
   "cell_type": "code",
   "execution_count": 20,
   "id": "d2192116",
   "metadata": {},
   "outputs": [
    {
     "data": {
      "text/plain": [
       "[Row(ExpandedFeatures=DenseVector([-0.0, 0.0, -0.0, -2.9992, 0.0, -0.0, 8.9953, -0.0, -26.9789, 0.7207, -0.0, 0.0, -2.1615, 0.0, 6.4829, 0.5194, -0.0, -1.5578, 0.3743, 2.1483, -0.0, 0.0, -6.4432, 0.0, 19.3247, 1.5483, -0.0, -4.6436, 1.1158, 4.6152, -0.0, -13.842, 3.3262, 9.9149, -1.0138, 0.0, -0.0, 3.0405, -0.0, -9.1191, -0.7306, 0.0, 2.1913, -0.5265, -2.1779, 0.0, 6.5319, -1.5696, -4.6787, 1.0277, -0.0, -3.0824, 0.7407, 2.2079, -1.0419, 0.9852, -0.0, 0.0, -2.9547, 0.0, 8.8619, 0.71, -0.0, -2.1295, 0.5117, 2.1164, -0.0, -6.3476, 1.5253, 4.5467, -0.9987, 0.0, 2.9954, -0.7198, -2.1456, 1.0125, 0.9705, -0.0, -2.9109, 0.6995, 2.085, -0.9839, 0.9561, -0.4139, 0.0, -0.0, 1.2414, -0.0, -3.7232, -0.2983, 0.0, 0.8947, -0.215, -0.8892, 0.0, 2.6669, -0.6408, -1.9103, 0.4196, -0.0, -1.2585, 0.3024, 0.9014, -0.4254, -0.4078, 0.0, 1.223, -0.2939, -0.876, 0.4134, -0.4017, 0.1713, -0.0, -0.5138, 0.1235, 0.368, -0.1737, 0.1688, -0.0709, 1.2052, -0.0, 0.0, -3.6145, 0.0, 10.8408, 0.8685, -0.0, -2.605, 0.626, 2.589, -0.0, -7.7651, 1.8659, 5.5621, -1.2217, 0.0, 3.6643, -0.8805, -2.6247, 1.2386, 1.1873, -0.0, -3.5609, 0.8557, 2.5506, -1.2036, 1.1697, -0.4988, 0.0, 1.4961, -0.3595, -1.0716, 0.5057, -0.4914, 0.2065, 1.4524, -0.0, -4.3561, 1.0467, 3.1202, -1.4724, 1.4309, -0.6012, 1.7504, 0.1916, -0.0, 0.0, -0.5748, 0.0, 1.7238, 0.1381, -0.0, -0.4142, 0.0995, 0.4117, -0.0, -1.2347, 0.2967, 0.8844, -0.1943, 0.0, 0.5827, -0.14, -0.4174, 0.1969, 0.1888, -0.0, -0.5662, 0.1361, 0.4056, -0.1914, 0.186, -0.0793, 0.0, 0.2379, -0.0572, -0.1704, 0.0804, -0.0781, 0.0328, 0.2309, -0.0, -0.6927, 0.1664, 0.4961, -0.2341, 0.2275, -0.0956, 0.2783, 0.0367, -0.0, -0.1101, 0.0265, 0.0789, -0.0372, 0.0362, -0.0152, 0.0443, 0.007]))]"
      ]
     },
     "execution_count": 20,
     "metadata": {},
     "output_type": "execute_result"
    }
   ],
   "source": [
    "feature_cols = ['ph','Hardness','Solids','Chloramines','Sulfate','Conductivity',\n",
    "               'Organic_carbon', 'Trihalomethanes', 'Turbidity']\n",
    "assembler_out_col = 'Features'\n",
    "scaler_out_col = 'ScaledFeatures'\n",
    "expander_out_col = 'ExpandedFeatures'\n",
    "degree = 3\n",
    "\n",
    "pipeline = feature_pipeline.create_feature_pipeline(df_train, feature_cols, assembler_out_col, \n",
    "                                                    scaler_out_col, expander_out_col, degree)\n",
    "\n",
    "pipeline.transform(df_train).select('ExpandedFeatures').take(1)"
   ]
  },
  {
   "cell_type": "code",
   "execution_count": null,
   "id": "562e775f",
   "metadata": {},
   "outputs": [],
   "source": []
  }
 ],
 "metadata": {
  "kernelspec": {
   "display_name": "Python 3 (ipykernel)",
   "language": "python",
   "name": "python3"
  },
  "language_info": {
   "codemirror_mode": {
    "name": "ipython",
    "version": 3
   },
   "file_extension": ".py",
   "mimetype": "text/x-python",
   "name": "python",
   "nbconvert_exporter": "python",
   "pygments_lexer": "ipython3",
   "version": "3.9.5"
  }
 },
 "nbformat": 4,
 "nbformat_minor": 5
}
