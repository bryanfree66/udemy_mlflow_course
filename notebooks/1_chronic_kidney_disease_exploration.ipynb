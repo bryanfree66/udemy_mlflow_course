{
 "cells": [
  {
   "cell_type": "markdown",
   "id": "cb09496b",
   "metadata": {},
   "source": [
    "# Chronic Kidney Disease Exploratory Notebook"
   ]
  },
  {
   "cell_type": "code",
   "execution_count": 1,
   "id": "ff8c5966",
   "metadata": {},
   "outputs": [],
   "source": [
    "import pyspark\n",
    "from pyspark.sql import SparkSession, Window, DataFrame\n",
    "import pyspark.sql.functions as F\n",
    "import pyspark.sql.types as T\n",
    "from pyspark.mllib.stat import Statistics\n",
    "import sys\n",
    "\n",
    "sys.path.append('/home/jovyan/work')"
   ]
  },
  {
   "cell_type": "code",
   "execution_count": 2,
   "id": "5cda0acb",
   "metadata": {},
   "outputs": [],
   "source": [
    "spark = SparkSession.builder.getOrCreate()"
   ]
  },
  {
   "cell_type": "markdown",
   "id": "c03c784a",
   "metadata": {},
   "source": [
    "## Load the Dataset"
   ]
  },
  {
   "cell_type": "code",
   "execution_count": 3,
   "id": "4e1600f6",
   "metadata": {},
   "outputs": [],
   "source": [
    "df = spark.read.csv('../data/chronic_kidney_disease_full.csv',inferSchema=True, header=True)"
   ]
  },
  {
   "cell_type": "code",
   "execution_count": 4,
   "id": "605ff764",
   "metadata": {},
   "outputs": [
    {
     "name": "stdout",
     "output_type": "stream",
     "text": [
      "Total record count: 400\n"
     ]
    }
   ],
   "source": [
    "print('Total record count: {}'.format(df.count()))"
   ]
  },
  {
   "cell_type": "markdown",
   "id": "a98ee6bf",
   "metadata": {},
   "source": [
    "### Make a Train/Test Split"
   ]
  },
  {
   "cell_type": "code",
   "execution_count": 5,
   "id": "3f5eaefa",
   "metadata": {},
   "outputs": [],
   "source": [
    "df_train, df_test = df.randomSplit([0.7, 0.3], seed=42)\n",
    "\n",
    "# Save the train and test datasets\n",
    "df_train.write\\\n",
    "    .format('csv')\\\n",
    "    .mode('overwrite')\\\n",
    "    .option(\"header\", \"true\")\\\n",
    "    .save('../data/chronic_kidney_disease_train')\n",
    "\n",
    "df_test.write\\\n",
    "    .format('csv')\\\n",
    "    .mode('overwrite')\\\n",
    "    .option(\"header\", \"true\")\\\n",
    "    .save('../data/chronic_kidney_disease_test')\n",
    "\n",
    "# Get rid of df so we don't accidentally use it\n",
    "del df"
   ]
  },
  {
   "cell_type": "markdown",
   "id": "3f3f10a1",
   "metadata": {},
   "source": [
    "## Exploring the Data\n",
    "### Data Definitions:\n",
    " - **age** - age\n",
    " - **bp** - blood pressure\n",
    " - **sg** - specific gravity\n",
    " - **al** - albumin\n",
    " - **su** - sugar\n",
    " - **rbc** - red blood cells\n",
    " - **pc** - pus cell\n",
    " - **pcc** - pus cell clumps\n",
    " - **ba** - bacteria\n",
    " - **bgr** - blood glucose random\n",
    " - **bu** - blood urea\n",
    " - **sc** - serum creatinine\n",
    " - **sod** - sodium\n",
    " - **pot** - potassium\n",
    " - **hemo** - hemoglobin\n",
    " - **pcv** - packed cell volume\n",
    " - **wc** - white blood cell count\n",
    " - **rc** - red blood cell count\n",
    " - **htn** - hypertension\n",
    " - **dm** - diabetes mellitus\n",
    " - **cad** - coronary artery disease\n",
    " - **appet** - appetite\n",
    " - **pe** - pedal edema\n",
    " - **ane** - anemia\n",
    " - **class** - class \n",
    "\n",
    "### View the Schema"
   ]
  },
  {
   "cell_type": "code",
   "execution_count": 6,
   "id": "afe8568b",
   "metadata": {
    "scrolled": true
   },
   "outputs": [
    {
     "name": "stdout",
     "output_type": "stream",
     "text": [
      "root\n",
      " |-- id: integer (nullable = true)\n",
      " |-- age: double (nullable = true)\n",
      " |-- bp: double (nullable = true)\n",
      " |-- sg: double (nullable = true)\n",
      " |-- al: double (nullable = true)\n",
      " |-- su: double (nullable = true)\n",
      " |-- rbc: string (nullable = true)\n",
      " |-- pc: string (nullable = true)\n",
      " |-- pcc: string (nullable = true)\n",
      " |-- ba: string (nullable = true)\n",
      " |-- bgr: double (nullable = true)\n",
      " |-- bu: double (nullable = true)\n",
      " |-- sc: double (nullable = true)\n",
      " |-- sod: double (nullable = true)\n",
      " |-- pot: double (nullable = true)\n",
      " |-- hemo: double (nullable = true)\n",
      " |-- pcv: string (nullable = true)\n",
      " |-- wc: string (nullable = true)\n",
      " |-- rc: string (nullable = true)\n",
      " |-- htn: string (nullable = true)\n",
      " |-- dm: string (nullable = true)\n",
      " |-- cad: string (nullable = true)\n",
      " |-- appet: string (nullable = true)\n",
      " |-- pe: string (nullable = true)\n",
      " |-- ane: string (nullable = true)\n",
      " |-- classification: string (nullable = true)\n",
      "\n"
     ]
    }
   ],
   "source": [
    "df_train.printSchema()"
   ]
  },
  {
   "cell_type": "code",
   "execution_count": 7,
   "id": "2bd06cdd",
   "metadata": {},
   "outputs": [
    {
     "name": "stdout",
     "output_type": "stream",
     "text": [
      "Train record count: 299\n"
     ]
    }
   ],
   "source": [
    "print('Train record count: {}'.format(df_train.count()))"
   ]
  },
  {
   "cell_type": "markdown",
   "id": "7bd03920",
   "metadata": {},
   "source": [
    "### View Sample Rows"
   ]
  },
  {
   "cell_type": "code",
   "execution_count": 8,
   "id": "8fa3e278",
   "metadata": {},
   "outputs": [
    {
     "name": "stdout",
     "output_type": "stream",
     "text": [
      "+---+----+----+-----+---+---+------+--------+----------+----------+-----+----+---+-----+----+----+---+----+----+---+---+---+-----+---+---+--------------+\n",
      "| id| age|  bp|   sg| al| su|   rbc|      pc|       pcc|        ba|  bgr|  bu| sc|  sod| pot|hemo|pcv|  wc|  rc|htn| dm|cad|appet| pe|ane|classification|\n",
      "+---+----+----+-----+---+---+------+--------+----------+----------+-----+----+---+-----+----+----+---+----+----+---+---+---+-----+---+---+--------------+\n",
      "|  0|48.0|80.0| 1.02|1.0|0.0|  null|  normal|notpresent|notpresent|121.0|36.0|1.2| null|null|15.4| 44|7800| 5.2|yes|yes| no| good| no| no|           ckd|\n",
      "|  1| 7.0|50.0| 1.02|4.0|0.0|  null|  normal|notpresent|notpresent| null|18.0|0.8| null|null|11.3| 38|6000|null| no| no| no| good| no| no|           ckd|\n",
      "|  3|48.0|70.0|1.005|4.0|0.0|normal|abnormal|   present|notpresent|117.0|56.0|3.8|111.0| 2.5|11.2| 32|6700| 3.9|yes| no| no| poor|yes|yes|           ckd|\n",
      "|  4|51.0|80.0| 1.01|2.0|0.0|normal|  normal|notpresent|notpresent|106.0|26.0|1.4| null|null|11.6| 35|7300| 4.6| no| no| no| good| no| no|           ckd|\n",
      "|  5|60.0|90.0|1.015|3.0|0.0|  null|    null|notpresent|notpresent| 74.0|25.0|1.1|142.0| 3.2|12.2| 39|7800| 4.4|yes|yes| no| good|yes| no|           ckd|\n",
      "+---+----+----+-----+---+---+------+--------+----------+----------+-----+----+---+-----+----+----+---+----+----+---+---+---+-----+---+---+--------------+\n",
      "only showing top 5 rows\n",
      "\n"
     ]
    }
   ],
   "source": [
    "df_train.show(5)"
   ]
  },
  {
   "cell_type": "markdown",
   "id": "cebc4f72",
   "metadata": {},
   "source": [
    "## Target Column"
   ]
  },
  {
   "cell_type": "code",
   "execution_count": 9,
   "id": "1c9d2dac",
   "metadata": {},
   "outputs": [
    {
     "data": {
      "text/html": [
       "<div>\n",
       "<style scoped>\n",
       "    .dataframe tbody tr th:only-of-type {\n",
       "        vertical-align: middle;\n",
       "    }\n",
       "\n",
       "    .dataframe tbody tr th {\n",
       "        vertical-align: top;\n",
       "    }\n",
       "\n",
       "    .dataframe thead th {\n",
       "        text-align: right;\n",
       "    }\n",
       "</style>\n",
       "<table border=\"1\" class=\"dataframe\">\n",
       "  <thead>\n",
       "    <tr style=\"text-align: right;\">\n",
       "      <th></th>\n",
       "      <th>classification</th>\n",
       "      <th>count</th>\n",
       "    </tr>\n",
       "  </thead>\n",
       "  <tbody>\n",
       "    <tr>\n",
       "      <th>0</th>\n",
       "      <td>notckd</td>\n",
       "      <td>114</td>\n",
       "    </tr>\n",
       "    <tr>\n",
       "      <th>1</th>\n",
       "      <td>ckd</td>\n",
       "      <td>183</td>\n",
       "    </tr>\n",
       "    <tr>\n",
       "      <th>2</th>\n",
       "      <td>ckd\\t</td>\n",
       "      <td>2</td>\n",
       "    </tr>\n",
       "  </tbody>\n",
       "</table>\n",
       "</div>"
      ],
      "text/plain": [
       "  classification  count\n",
       "0         notckd    114\n",
       "1            ckd    183\n",
       "2          ckd\\t      2"
      ]
     },
     "execution_count": 9,
     "metadata": {},
     "output_type": "execute_result"
    }
   ],
   "source": [
    "freq_table = df_train.select(F.col('classification').cast('string')).groupBy('classification').count().toPandas()\n",
    "freq_table"
   ]
  },
  {
   "cell_type": "markdown",
   "id": "7bc4b488",
   "metadata": {},
   "source": [
    "So, this is a binary classification problem with target values of notckd (not chronic kidney disease) and ckd (chronic kidney disease). **Note:** There is an extraneous tab (\\t) on at lease one of the target values. We will have to fix that up."
   ]
  },
  {
   "cell_type": "markdown",
   "id": "ad790dee",
   "metadata": {},
   "source": [
    "## Continuous Variables\n",
    "### Summary Statistics"
   ]
  },
  {
   "cell_type": "code",
   "execution_count": 10,
   "id": "3eb22d2c",
   "metadata": {},
   "outputs": [
    {
     "data": {
      "text/html": [
       "<div>\n",
       "<style scoped>\n",
       "    .dataframe tbody tr th:only-of-type {\n",
       "        vertical-align: middle;\n",
       "    }\n",
       "\n",
       "    .dataframe tbody tr th {\n",
       "        vertical-align: top;\n",
       "    }\n",
       "\n",
       "    .dataframe thead th {\n",
       "        text-align: right;\n",
       "    }\n",
       "</style>\n",
       "<table border=\"1\" class=\"dataframe\">\n",
       "  <thead>\n",
       "    <tr style=\"text-align: right;\">\n",
       "      <th></th>\n",
       "      <th>summary</th>\n",
       "      <th>age</th>\n",
       "      <th>bp</th>\n",
       "      <th>sg</th>\n",
       "      <th>al</th>\n",
       "      <th>su</th>\n",
       "      <th>bgr</th>\n",
       "      <th>bu</th>\n",
       "      <th>sc</th>\n",
       "      <th>sod</th>\n",
       "      <th>pot</th>\n",
       "      <th>hemo</th>\n",
       "    </tr>\n",
       "  </thead>\n",
       "  <tbody>\n",
       "    <tr>\n",
       "      <th>0</th>\n",
       "      <td>count</td>\n",
       "      <td>295</td>\n",
       "      <td>289</td>\n",
       "      <td>260</td>\n",
       "      <td>260</td>\n",
       "      <td>257</td>\n",
       "      <td>268</td>\n",
       "      <td>284</td>\n",
       "      <td>287</td>\n",
       "      <td>238</td>\n",
       "      <td>238</td>\n",
       "      <td>263</td>\n",
       "    </tr>\n",
       "    <tr>\n",
       "      <th>1</th>\n",
       "      <td>mean</td>\n",
       "      <td>51.77627118644068</td>\n",
       "      <td>76.9204152249135</td>\n",
       "      <td>1.0176346153846174</td>\n",
       "      <td>1.0269230769230768</td>\n",
       "      <td>0.44357976653696496</td>\n",
       "      <td>150.75746268656715</td>\n",
       "      <td>60.000704225352116</td>\n",
       "      <td>3.0092334494773567</td>\n",
       "      <td>138.03781512605042</td>\n",
       "      <td>4.692857142857143</td>\n",
       "      <td>12.471863117870726</td>\n",
       "    </tr>\n",
       "    <tr>\n",
       "      <th>2</th>\n",
       "      <td>stddev</td>\n",
       "      <td>16.65733417948455</td>\n",
       "      <td>14.013779125651489</td>\n",
       "      <td>0.00575238357899701</td>\n",
       "      <td>1.3539753259380998</td>\n",
       "      <td>1.0851121532883172</td>\n",
       "      <td>82.71550527569536</td>\n",
       "      <td>53.49978434813889</td>\n",
       "      <td>4.573547394964013</td>\n",
       "      <td>7.061711003346931</td>\n",
       "      <td>3.63387592654839</td>\n",
       "      <td>2.974658737930449</td>\n",
       "    </tr>\n",
       "    <tr>\n",
       "      <th>3</th>\n",
       "      <td>min</td>\n",
       "      <td>2.0</td>\n",
       "      <td>50.0</td>\n",
       "      <td>1.005</td>\n",
       "      <td>0.0</td>\n",
       "      <td>0.0</td>\n",
       "      <td>22.0</td>\n",
       "      <td>1.5</td>\n",
       "      <td>0.4</td>\n",
       "      <td>111.0</td>\n",
       "      <td>2.5</td>\n",
       "      <td>3.1</td>\n",
       "    </tr>\n",
       "    <tr>\n",
       "      <th>4</th>\n",
       "      <td>max</td>\n",
       "      <td>90.0</td>\n",
       "      <td>180.0</td>\n",
       "      <td>1.025</td>\n",
       "      <td>5.0</td>\n",
       "      <td>5.0</td>\n",
       "      <td>490.0</td>\n",
       "      <td>391.0</td>\n",
       "      <td>48.1</td>\n",
       "      <td>163.0</td>\n",
       "      <td>47.0</td>\n",
       "      <td>17.8</td>\n",
       "    </tr>\n",
       "  </tbody>\n",
       "</table>\n",
       "</div>"
      ],
      "text/plain": [
       "  summary                age                  bp                   sg  \\\n",
       "0   count                295                 289                  260   \n",
       "1    mean  51.77627118644068    76.9204152249135   1.0176346153846174   \n",
       "2  stddev  16.65733417948455  14.013779125651489  0.00575238357899701   \n",
       "3     min                2.0                50.0                1.005   \n",
       "4     max               90.0               180.0                1.025   \n",
       "\n",
       "                   al                   su                 bgr  \\\n",
       "0                 260                  257                 268   \n",
       "1  1.0269230769230768  0.44357976653696496  150.75746268656715   \n",
       "2  1.3539753259380998   1.0851121532883172   82.71550527569536   \n",
       "3                 0.0                  0.0                22.0   \n",
       "4                 5.0                  5.0               490.0   \n",
       "\n",
       "                   bu                  sc                 sod  \\\n",
       "0                 284                 287                 238   \n",
       "1  60.000704225352116  3.0092334494773567  138.03781512605042   \n",
       "2   53.49978434813889   4.573547394964013   7.061711003346931   \n",
       "3                 1.5                 0.4               111.0   \n",
       "4               391.0                48.1               163.0   \n",
       "\n",
       "                 pot                hemo  \n",
       "0                238                 263  \n",
       "1  4.692857142857143  12.471863117870726  \n",
       "2   3.63387592654839   2.974658737930449  \n",
       "3                2.5                 3.1  \n",
       "4               47.0                17.8  "
      ]
     },
     "execution_count": 10,
     "metadata": {},
     "output_type": "execute_result"
    }
   ],
   "source": [
    "df_train.select('age','bp','sg','al','su','bgr','bu','sc','sod','pot','hemo').describe().toPandas()"
   ]
  },
  {
   "cell_type": "markdown",
   "id": "7b526d18",
   "metadata": {},
   "source": [
    "### Null Counts"
   ]
  },
  {
   "cell_type": "code",
   "execution_count": 11,
   "id": "4b71fad9",
   "metadata": {},
   "outputs": [
    {
     "name": "stdout",
     "output_type": "stream",
     "text": [
      "Nulls in age: 4\n",
      "Nulls in blood pressure: 10\n",
      "Nulls in specific gravity: 39\n",
      "Nulls in albumin: 39\n",
      "Nulls in sugar: 42\n",
      "Nulls in blood glucose random: 31\n",
      "Nulls in blood urea: 15\n",
      "Nulls in serum creatinine: 12\n",
      "Nulls in sodium: 61\n",
      "Nulls in potassium: 61\n",
      "Nulls in hemoglobin: 36\n"
     ]
    }
   ],
   "source": [
    "print('Nulls in age: {}'.format(df_train.where(F.col('age').isNull()).count()))\n",
    "print('Nulls in blood pressure: {}'.format(df_train.where(F.col('bp').isNull()).count()))\n",
    "print('Nulls in specific gravity: {}'.format(df_train.where(F.col('sg').isNull()).count()))\n",
    "print('Nulls in albumin: {}'.format(df_train.where(F.col('al').isNull()).count()))\n",
    "print('Nulls in sugar: {}'.format(df_train.where(F.col('su').isNull()).count()))\n",
    "print('Nulls in blood glucose random: {}'.format(df_train.where(F.col('bgr').isNull()).count()))\n",
    "print('Nulls in blood urea: {}'.format(df_train.where(F.col('bu').isNull()).count()))\n",
    "print('Nulls in serum creatinine: {}'.format(df_train.where(F.col('sc').isNull()).count()))\n",
    "print('Nulls in sodium: {}'.format(df_train.where(F.col('sod').isNull()).count()))\n",
    "print('Nulls in potassium: {}'.format(df_train.where(F.col('pot').isNull()).count()))\n",
    "print('Nulls in hemoglobin: {}'.format(df_train.where(F.col('hemo').isNull()).count()))"
   ]
  },
  {
   "cell_type": "markdown",
   "id": "2eb6f60a",
   "metadata": {},
   "source": [
    "## Categorical Variables"
   ]
  },
  {
   "cell_type": "code",
   "execution_count": 12,
   "id": "ccb53f88",
   "metadata": {},
   "outputs": [
    {
     "name": "stdout",
     "output_type": "stream",
     "text": [
      "Red blood cells:\n",
      "         rbc  count\n",
      "0      None    111\n",
      "1    normal    153\n",
      "2  abnormal     35\n"
     ]
    }
   ],
   "source": [
    "freq_table_rbc = df_train.select(F.col('rbc').cast('string')).groupBy('rbc').count().toPandas()\n",
    "print('Red blood cells:\\n {}'.format(freq_table_rbc))"
   ]
  },
  {
   "cell_type": "code",
   "execution_count": 13,
   "id": "33b212c0",
   "metadata": {},
   "outputs": [
    {
     "name": "stdout",
     "output_type": "stream",
     "text": [
      "Pus cells:\n",
      "          pc  count\n",
      "0      None     52\n",
      "1    normal    185\n",
      "2  abnormal     62\n"
     ]
    }
   ],
   "source": [
    "freq_table_pc = df_train.select(F.col('pc').cast('string')).groupBy('pc').count().toPandas()\n",
    "print('Pus cells:\\n {}'.format(freq_table_pc))"
   ]
  },
  {
   "cell_type": "code",
   "execution_count": 14,
   "id": "47e3c825",
   "metadata": {},
   "outputs": [
    {
     "name": "stdout",
     "output_type": "stream",
     "text": [
      "Pus cell clumps:\n",
      "           pcc  count\n",
      "0     present     30\n",
      "1  notpresent    266\n",
      "2        None      3\n"
     ]
    }
   ],
   "source": [
    "freq_table_pcc = df_train.select(F.col('pcc').cast('string')).groupBy('pcc').count().toPandas()\n",
    "print('Pus cell clumps:\\n {}'.format(freq_table_pcc))"
   ]
  },
  {
   "cell_type": "code",
   "execution_count": 15,
   "id": "1a6aef33",
   "metadata": {},
   "outputs": [
    {
     "name": "stdout",
     "output_type": "stream",
     "text": [
      "Bacteria:\n",
      "            ba  count\n",
      "0     present     16\n",
      "1  notpresent    280\n",
      "2        None      3\n"
     ]
    }
   ],
   "source": [
    "freq_table_ba = df_train.select(F.col('ba').cast('string')).groupBy('ba').count().toPandas()\n",
    "print('Bacteria:\\n {}'.format(freq_table_ba))"
   ]
  },
  {
   "cell_type": "code",
   "execution_count": 16,
   "id": "f2e47796",
   "metadata": {},
   "outputs": [
    {
     "name": "stdout",
     "output_type": "stream",
     "text": [
      "Hypertension:\n",
      "     htn  count\n",
      "0  None      1\n",
      "1    no    184\n",
      "2   yes    114\n"
     ]
    }
   ],
   "source": [
    "freq_table_htn = df_train.select(F.col('htn').cast('string')).groupBy('htn').count().toPandas()\n",
    "print('Hypertension:\\n {}'.format(freq_table_htn))"
   ]
  },
  {
   "cell_type": "code",
   "execution_count": 17,
   "id": "255d55ce",
   "metadata": {},
   "outputs": [
    {
     "name": "stdout",
     "output_type": "stream",
     "text": [
      "Diabetes mellitus:\n",
      "       dm  count\n",
      "0   None      1\n",
      "1   \\tno      3\n",
      "2  \\tyes      2\n",
      "3     no    193\n",
      "4    yes    100\n"
     ]
    }
   ],
   "source": [
    "freq_table_dm = df_train.select(F.col('dm').cast('string')).groupBy('dm').count().toPandas()\n",
    "print('Diabetes mellitus:\\n {}'.format(freq_table_dm))"
   ]
  },
  {
   "cell_type": "code",
   "execution_count": 18,
   "id": "39618044",
   "metadata": {},
   "outputs": [
    {
     "name": "stdout",
     "output_type": "stream",
     "text": [
      "Coronary artery disease:\n",
      "     cad  count\n",
      "0  None      1\n",
      "1  \\tno      1\n",
      "2    no    271\n",
      "3   yes     26\n"
     ]
    }
   ],
   "source": [
    "freq_table_cad = df_train.select(F.col('cad').cast('string')).groupBy('cad').count().toPandas()\n",
    "print('Coronary artery disease:\\n {}'.format(freq_table_cad))"
   ]
  },
  {
   "cell_type": "code",
   "execution_count": 19,
   "id": "5ca9b6e6",
   "metadata": {},
   "outputs": [
    {
     "name": "stdout",
     "output_type": "stream",
     "text": [
      "Appetite:\n",
      "   appet  count\n",
      "0  poor     56\n",
      "1  good    243\n"
     ]
    }
   ],
   "source": [
    "freq_table_appet = df_train.select(F.col('appet').cast('string')).groupBy('appet').count().toPandas()\n",
    "print('Appetite:\\n {}'.format(freq_table_appet))"
   ]
  },
  {
   "cell_type": "code",
   "execution_count": 20,
   "id": "e63cb917",
   "metadata": {},
   "outputs": [
    {
     "name": "stdout",
     "output_type": "stream",
     "text": [
      "Pedal edema:\n",
      "     pe  count\n",
      "0   no    241\n",
      "1  yes     58\n"
     ]
    }
   ],
   "source": [
    "freq_table_pe = df_train.select(F.col('pe').cast('string')).groupBy('pe').count().toPandas()\n",
    "print('Pedal edema:\\n {}'.format(freq_table_pe))"
   ]
  },
  {
   "cell_type": "code",
   "execution_count": 21,
   "id": "68d5c62e",
   "metadata": {},
   "outputs": [
    {
     "name": "stdout",
     "output_type": "stream",
     "text": [
      "Anemia:\n",
      "    ane  count\n",
      "0   no    251\n",
      "1  yes     48\n"
     ]
    }
   ],
   "source": [
    "freq_table_ane = df_train.select(F.col('ane').cast('string')).groupBy('ane').count().toPandas()\n",
    "print('Anemia:\\n {}'.format(freq_table_ane))"
   ]
  },
  {
   "cell_type": "code",
   "execution_count": null,
   "id": "b78c997f",
   "metadata": {},
   "outputs": [],
   "source": []
  }
 ],
 "metadata": {
  "kernelspec": {
   "display_name": "Python 3",
   "language": "python",
   "name": "python3"
  },
  "language_info": {
   "codemirror_mode": {
    "name": "ipython",
    "version": 3
   },
   "file_extension": ".py",
   "mimetype": "text/x-python",
   "name": "python",
   "nbconvert_exporter": "python",
   "pygments_lexer": "ipython3",
   "version": "3.9.5"
  }
 },
 "nbformat": 4,
 "nbformat_minor": 5
}
