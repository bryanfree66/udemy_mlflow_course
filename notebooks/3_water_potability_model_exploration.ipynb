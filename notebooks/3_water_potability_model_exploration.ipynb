{
 "cells": [
  {
   "cell_type": "markdown",
   "id": "9757e00d",
   "metadata": {},
   "source": [
    "# Water Potability Model Exploration"
   ]
  },
  {
   "cell_type": "code",
   "execution_count": 11,
   "id": "df1ca005",
   "metadata": {},
   "outputs": [],
   "source": [
    "import mlflow\n",
    "import mlflow.spark\n",
    "from utilities.spark_utils import get_spark_session, load_data\n",
    "from pipeline import feature_pipeline\n",
    "\n",
    "import sys, os\n",
    "sys.path.append('/home/jovyan/work')"
   ]
  },
  {
   "cell_type": "code",
   "execution_count": 12,
   "id": "5fb42188",
   "metadata": {},
   "outputs": [],
   "source": [
    "spark = get_spark_session()\n",
    "spark.sparkContext.setLogLevel('ERROR')"
   ]
  },
  {
   "cell_type": "markdown",
   "id": "5fde46dc",
   "metadata": {},
   "source": [
    "## Load the Training Data"
   ]
  },
  {
   "cell_type": "code",
   "execution_count": 13,
   "id": "585a2ce0",
   "metadata": {
    "scrolled": true
   },
   "outputs": [
    {
     "name": "stdout",
     "output_type": "stream",
     "text": [
      "+---+----+------------------+------------------+------------------+------------------+------------------+------------------+-----------------+------------------+----------+\n",
      "|_c0|  ph|          Hardness|            Solids|       Chloramines|           Sulfate|      Conductivity|    Organic_carbon|  Trihalomethanes|         Turbidity|Potability|\n",
      "+---+----+------------------+------------------+------------------+------------------+------------------+------------------+-----------------+------------------+----------+\n",
      "|  0|null|  98.3679148956603| 28415.57583214058|10.558949998467961|  296.843207792478|505.24026927891407|12.882614472289333|85.32995534051292| 4.119087300328971|         1|\n",
      "|  1|null|103.46475866009455| 27420.16742458204| 8.417305032089528|              null|485.97450045781375|11.351132730708514| 67.8699636759021| 4.620793451653219|         0|\n",
      "|  2|null|108.91662923953173|14476.335695268315| 5.398162017711099|  281.198274407849| 512.2323064106689|15.013793389990155| 86.6714587149138| 3.895572062268123|         1|\n",
      "|  3|null|113.17596460727073|  9943.92978526269| 6.337137942441213|354.29756524708256| 415.3383368798727| 19.67616854859483|23.07580599653685| 3.787475537347365|         1|\n",
      "|  4|null| 114.7335449715346| 13677.99404000127| 9.981200455815905|441.82677662870003|  524.000355172102|11.384858471731945|71.15328465919002|3.2938483740192734|         1|\n",
      "+---+----+------------------+------------------+------------------+------------------+------------------+------------------+-----------------+------------------+----------+\n",
      "only showing top 5 rows\n",
      "\n"
     ]
    }
   ],
   "source": [
    "file_path = '../data/water_potability_train.csv'\n",
    "df = load_data(spark, file_path)\n",
    "df.show(5)"
   ]
  },
  {
   "cell_type": "markdown",
   "id": "23854c04",
   "metadata": {},
   "source": [
    "## Model Experimentation with MLFlow"
   ]
  },
  {
   "cell_type": "code",
   "execution_count": 14,
   "id": "89ece521",
   "metadata": {},
   "outputs": [
    {
     "name": "stdout",
     "output_type": "stream",
     "text": [
      "INFO: 'iris_features' does not exist. Creating a new experiment\n"
     ]
    }
   ],
   "source": [
    "experiment = 'iris_features'\n",
    "mlflow.set_tracking_uri(os.environ['MLFLOW_TRACKING_URI'])\n",
    "mlflow.set_experiment(experiment)"
   ]
  },
  {
   "cell_type": "code",
   "execution_count": 15,
   "id": "7a2e4991",
   "metadata": {},
   "outputs": [],
   "source": [
    "with mlflow.start_run() as run:\n",
    "    pass"
   ]
  },
  {
   "cell_type": "code",
   "execution_count": null,
   "id": "32c1eb1c",
   "metadata": {},
   "outputs": [],
   "source": []
  }
 ],
 "metadata": {
  "kernelspec": {
   "display_name": "Python 3 (ipykernel)",
   "language": "python",
   "name": "python3"
  },
  "language_info": {
   "codemirror_mode": {
    "name": "ipython",
    "version": 3
   },
   "file_extension": ".py",
   "mimetype": "text/x-python",
   "name": "python",
   "nbconvert_exporter": "python",
   "pygments_lexer": "ipython3",
   "version": "3.9.5"
  }
 },
 "nbformat": 4,
 "nbformat_minor": 5
}
