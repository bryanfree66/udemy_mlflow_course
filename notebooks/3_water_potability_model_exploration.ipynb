{
 "cells": [
  {
   "cell_type": "markdown",
   "id": "9757e00d",
   "metadata": {},
   "source": [
    "# Water Potability Model Exploration"
   ]
  },
  {
   "cell_type": "code",
   "execution_count": 1,
   "id": "df1ca005",
   "metadata": {},
   "outputs": [],
   "source": [
    "import sys\n",
    "sys.path.append('/home/jovyan/work')\n",
    "\n",
    "import mlflow\n",
    "import mlflow.spark\n",
    "from utilities.spark_utils import get_spark_session, load_data"
   ]
  },
  {
   "cell_type": "code",
   "execution_count": 2,
   "id": "5fb42188",
   "metadata": {},
   "outputs": [
    {
     "name": "stderr",
     "output_type": "stream",
     "text": [
      "WARNING: An illegal reflective access operation has occurred\n",
      "WARNING: Illegal reflective access by org.apache.spark.unsafe.Platform (file:/usr/local/spark-3.1.2-bin-hadoop3.2/jars/spark-unsafe_2.12-3.1.2.jar) to constructor java.nio.DirectByteBuffer(long,int)\n",
      "WARNING: Please consider reporting this to the maintainers of org.apache.spark.unsafe.Platform\n",
      "WARNING: Use --illegal-access=warn to enable warnings of further illegal reflective access operations\n",
      "WARNING: All illegal access operations will be denied in a future release\n"
     ]
    },
    {
     "name": "stdout",
     "output_type": "stream",
     "text": [
      ":: loading settings :: url = jar:file:/usr/local/spark-3.1.2-bin-hadoop3.2/jars/ivy-2.4.0.jar!/org/apache/ivy/core/settings/ivysettings.xml\n"
     ]
    },
    {
     "name": "stderr",
     "output_type": "stream",
     "text": [
      "Ivy Default Cache set to: /home/jovyan/.ivy2/cache\n",
      "The jars for the packages stored in: /home/jovyan/.ivy2/jars\n",
      "ml.combust.mleap#mleap-spark-base_2.11 added as a dependency\n",
      "ml.combust.mleap#mleap-spark_2.11 added as a dependency\n",
      ":: resolving dependencies :: org.apache.spark#spark-submit-parent-1b7f687d-a694-494b-b44c-2c2a9dbb6f80;1.0\n",
      "\tconfs: [default]\n",
      "\tfound ml.combust.mleap#mleap-spark-base_2.11;0.17.0 in central\n",
      "\tfound ml.combust.mleap#mleap-runtime_2.11;0.17.0 in central\n",
      "\tfound ml.combust.mleap#mleap-core_2.11;0.17.0 in central\n",
      "\tfound ml.combust.mleap#mleap-base_2.11;0.17.0 in central\n",
      "\tfound ml.combust.mleap#mleap-tensor_2.11;0.17.0 in central\n",
      "\tfound io.spray#spray-json_2.11;1.3.2 in central\n",
      "\tfound com.github.rwl#jtransforms;2.4.0 in central\n",
      "\tfound ml.combust.bundle#bundle-ml_2.11;0.17.0 in central\n",
      "\tfound com.google.protobuf#protobuf-java;3.5.1 in central\n",
      "\tfound com.thesamet.scalapb#scalapb-runtime_2.11;0.7.1 in central\n",
      "\tfound com.thesamet.scalapb#lenses_2.11;0.7.0-test2 in central\n",
      "\tfound com.lihaoyi#fastparse_2.11;1.0.0 in central\n",
      "\tfound com.lihaoyi#fastparse-utils_2.11;1.0.0 in central\n",
      "\tfound com.lihaoyi#sourcecode_2.11;0.1.4 in central\n",
      "\tfound com.jsuereth#scala-arm_2.11;2.0 in central\n",
      "\tfound com.typesafe#config;1.3.0 in central\n",
      "\tfound commons-io#commons-io;2.5 in central\n",
      "\tfound org.scala-lang#scala-reflect;2.11.12 in central\n",
      "\tfound ml.combust.bundle#bundle-hdfs_2.11;0.17.0 in central\n",
      "\tfound ml.combust.mleap#mleap-spark_2.11;0.17.0 in central\n",
      "downloading https://repo1.maven.org/maven2/ml/combust/mleap/mleap-spark-base_2.11/0.17.0/mleap-spark-base_2.11-0.17.0.jar ...\n",
      "\t[SUCCESSFUL ] ml.combust.mleap#mleap-spark-base_2.11;0.17.0!mleap-spark-base_2.11.jar (137ms)\n",
      "downloading https://repo1.maven.org/maven2/ml/combust/mleap/mleap-spark_2.11/0.17.0/mleap-spark_2.11-0.17.0.jar ...\n",
      "\t[SUCCESSFUL ] ml.combust.mleap#mleap-spark_2.11;0.17.0!mleap-spark_2.11.jar (152ms)\n",
      "downloading https://repo1.maven.org/maven2/ml/combust/mleap/mleap-runtime_2.11/0.17.0/mleap-runtime_2.11-0.17.0.jar ...\n",
      "\t[SUCCESSFUL ] ml.combust.mleap#mleap-runtime_2.11;0.17.0!mleap-runtime_2.11.jar (340ms)\n",
      "downloading https://repo1.maven.org/maven2/ml/combust/bundle/bundle-hdfs_2.11/0.17.0/bundle-hdfs_2.11-0.17.0.jar ...\n",
      "\t[SUCCESSFUL ] ml.combust.bundle#bundle-hdfs_2.11;0.17.0!bundle-hdfs_2.11.jar (75ms)\n",
      "downloading https://repo1.maven.org/maven2/ml/combust/mleap/mleap-core_2.11/0.17.0/mleap-core_2.11-0.17.0.jar ...\n",
      "\t[SUCCESSFUL ] ml.combust.mleap#mleap-core_2.11;0.17.0!mleap-core_2.11.jar (233ms)\n",
      "downloading https://repo1.maven.org/maven2/ml/combust/bundle/bundle-ml_2.11/0.17.0/bundle-ml_2.11-0.17.0.jar ...\n",
      "\t[SUCCESSFUL ] ml.combust.bundle#bundle-ml_2.11;0.17.0!bundle-ml_2.11.jar (367ms)\n",
      "downloading https://repo1.maven.org/maven2/commons-io/commons-io/2.5/commons-io-2.5.jar ...\n",
      "\t[SUCCESSFUL ] commons-io#commons-io;2.5!commons-io.jar (91ms)\n",
      "downloading https://repo1.maven.org/maven2/org/scala-lang/scala-reflect/2.11.12/scala-reflect-2.11.12.jar ...\n",
      "\t[SUCCESSFUL ] org.scala-lang#scala-reflect;2.11.12!scala-reflect.jar (766ms)\n",
      "downloading https://repo1.maven.org/maven2/ml/combust/mleap/mleap-base_2.11/0.17.0/mleap-base_2.11-0.17.0.jar ...\n",
      "\t[SUCCESSFUL ] ml.combust.mleap#mleap-base_2.11;0.17.0!mleap-base_2.11.jar (67ms)\n",
      "downloading https://repo1.maven.org/maven2/ml/combust/mleap/mleap-tensor_2.11/0.17.0/mleap-tensor_2.11-0.17.0.jar ...\n",
      "\t[SUCCESSFUL ] ml.combust.mleap#mleap-tensor_2.11;0.17.0!mleap-tensor_2.11.jar (71ms)\n",
      "downloading https://repo1.maven.org/maven2/com/github/rwl/jtransforms/2.4.0/jtransforms-2.4.0.jar ...\n",
      "\t[SUCCESSFUL ] com.github.rwl#jtransforms;2.4.0!jtransforms.jar (168ms)\n",
      "downloading https://repo1.maven.org/maven2/io/spray/spray-json_2.11/1.3.2/spray-json_2.11-1.3.2.jar ...\n",
      "\t[SUCCESSFUL ] io.spray#spray-json_2.11;1.3.2!spray-json_2.11.jar(bundle) (102ms)\n",
      "downloading https://repo1.maven.org/maven2/com/google/protobuf/protobuf-java/3.5.1/protobuf-java-3.5.1.jar ...\n",
      "\t[SUCCESSFUL ] com.google.protobuf#protobuf-java;3.5.1!protobuf-java.jar(bundle) (258ms)\n",
      "downloading https://repo1.maven.org/maven2/com/thesamet/scalapb/scalapb-runtime_2.11/0.7.1/scalapb-runtime_2.11-0.7.1.jar ...\n",
      "\t[SUCCESSFUL ] com.thesamet.scalapb#scalapb-runtime_2.11;0.7.1!scalapb-runtime_2.11.jar (616ms)\n",
      "downloading https://repo1.maven.org/maven2/com/jsuereth/scala-arm_2.11/2.0/scala-arm_2.11-2.0.jar ...\n",
      "\t[SUCCESSFUL ] com.jsuereth#scala-arm_2.11;2.0!scala-arm_2.11.jar (81ms)\n",
      "downloading https://repo1.maven.org/maven2/com/typesafe/config/1.3.0/config-1.3.0.jar ...\n",
      "\t[SUCCESSFUL ] com.typesafe#config;1.3.0!config.jar(bundle) (99ms)\n",
      "downloading https://repo1.maven.org/maven2/com/thesamet/scalapb/lenses_2.11/0.7.0-test2/lenses_2.11-0.7.0-test2.jar ...\n",
      "\t[SUCCESSFUL ] com.thesamet.scalapb#lenses_2.11;0.7.0-test2!lenses_2.11.jar (69ms)\n",
      "downloading https://repo1.maven.org/maven2/com/lihaoyi/fastparse_2.11/1.0.0/fastparse_2.11-1.0.0.jar ...\n",
      "\t[SUCCESSFUL ] com.lihaoyi#fastparse_2.11;1.0.0!fastparse_2.11.jar (111ms)\n",
      "downloading https://repo1.maven.org/maven2/com/lihaoyi/fastparse-utils_2.11/1.0.0/fastparse-utils_2.11-1.0.0.jar ...\n",
      "\t[SUCCESSFUL ] com.lihaoyi#fastparse-utils_2.11;1.0.0!fastparse-utils_2.11.jar (72ms)\n",
      "downloading https://repo1.maven.org/maven2/com/lihaoyi/sourcecode_2.11/0.1.4/sourcecode_2.11-0.1.4.jar ...\n",
      "\t[SUCCESSFUL ] com.lihaoyi#sourcecode_2.11;0.1.4!sourcecode_2.11.jar(bundle) (79ms)\n",
      ":: resolution report :: resolve 11380ms :: artifacts dl 3981ms\n",
      "\t:: modules in use:\n",
      "\tcom.github.rwl#jtransforms;2.4.0 from central in [default]\n",
      "\tcom.google.protobuf#protobuf-java;3.5.1 from central in [default]\n",
      "\tcom.jsuereth#scala-arm_2.11;2.0 from central in [default]\n",
      "\tcom.lihaoyi#fastparse-utils_2.11;1.0.0 from central in [default]\n",
      "\tcom.lihaoyi#fastparse_2.11;1.0.0 from central in [default]\n",
      "\tcom.lihaoyi#sourcecode_2.11;0.1.4 from central in [default]\n",
      "\tcom.thesamet.scalapb#lenses_2.11;0.7.0-test2 from central in [default]\n",
      "\tcom.thesamet.scalapb#scalapb-runtime_2.11;0.7.1 from central in [default]\n",
      "\tcom.typesafe#config;1.3.0 from central in [default]\n",
      "\tcommons-io#commons-io;2.5 from central in [default]\n",
      "\tio.spray#spray-json_2.11;1.3.2 from central in [default]\n",
      "\tml.combust.bundle#bundle-hdfs_2.11;0.17.0 from central in [default]\n",
      "\tml.combust.bundle#bundle-ml_2.11;0.17.0 from central in [default]\n",
      "\tml.combust.mleap#mleap-base_2.11;0.17.0 from central in [default]\n",
      "\tml.combust.mleap#mleap-core_2.11;0.17.0 from central in [default]\n",
      "\tml.combust.mleap#mleap-runtime_2.11;0.17.0 from central in [default]\n",
      "\tml.combust.mleap#mleap-spark-base_2.11;0.17.0 from central in [default]\n",
      "\tml.combust.mleap#mleap-spark_2.11;0.17.0 from central in [default]\n",
      "\tml.combust.mleap#mleap-tensor_2.11;0.17.0 from central in [default]\n",
      "\torg.scala-lang#scala-reflect;2.11.12 from central in [default]\n",
      "\t:: evicted modules:\n",
      "\tcom.google.protobuf#protobuf-java;3.5.0 by [com.google.protobuf#protobuf-java;3.5.1] in [default]\n",
      "\t---------------------------------------------------------------------\n",
      "\t|                  |            modules            ||   artifacts   |\n",
      "\t|       conf       | number| search|dwnlded|evicted|| number|dwnlded|\n",
      "\t---------------------------------------------------------------------\n",
      "\t|      default     |   21  |   20  |   20  |   1   ||   20  |   20  |\n",
      "\t---------------------------------------------------------------------\n",
      ":: retrieving :: org.apache.spark#spark-submit-parent-1b7f687d-a694-494b-b44c-2c2a9dbb6f80\n",
      "\tconfs: [default]\n",
      "\t20 artifacts copied, 0 already retrieved (16919kB/65ms)\n",
      "21/07/12 15:01:13 WARN NativeCodeLoader: Unable to load native-hadoop library for your platform... using builtin-java classes where applicable\n",
      "Using Spark's default log4j profile: org/apache/spark/log4j-defaults.properties\n",
      "Setting default log level to \"WARN\".\n",
      "To adjust logging level use sc.setLogLevel(newLevel). For SparkR, use setLogLevel(newLevel).\n"
     ]
    }
   ],
   "source": [
    "spark = get_spark_session()\n",
    "spark.sparkContext.setLogLevel('ERROR')"
   ]
  },
  {
   "cell_type": "markdown",
   "id": "5fde46dc",
   "metadata": {},
   "source": [
    "## Load the Training Data"
   ]
  },
  {
   "cell_type": "code",
   "execution_count": 3,
   "id": "585a2ce0",
   "metadata": {},
   "outputs": [
    {
     "name": "stdout",
     "output_type": "stream",
     "text": [
      "+---+----+------------------+------------------+------------------+------------------+------------------+------------------+-----------------+------------------+----------+\n",
      "|_c0|  ph|          Hardness|            Solids|       Chloramines|           Sulfate|      Conductivity|    Organic_carbon|  Trihalomethanes|         Turbidity|Potability|\n",
      "+---+----+------------------+------------------+------------------+------------------+------------------+------------------+-----------------+------------------+----------+\n",
      "|  0|null|  98.3679148956603| 28415.57583214058|10.558949998467961|  296.843207792478|505.24026927891407|12.882614472289333|85.32995534051292| 4.119087300328971|         1|\n",
      "|  1|null|103.46475866009455| 27420.16742458204| 8.417305032089528|              null|485.97450045781375|11.351132730708514| 67.8699636759021| 4.620793451653219|         0|\n",
      "|  2|null|108.91662923953173|14476.335695268315| 5.398162017711099|  281.198274407849| 512.2323064106689|15.013793389990155| 86.6714587149138| 3.895572062268123|         1|\n",
      "|  3|null|113.17596460727073|  9943.92978526269| 6.337137942441213|354.29756524708256| 415.3383368798727| 19.67616854859483|23.07580599653685| 3.787475537347365|         1|\n",
      "|  4|null| 114.7335449715346| 13677.99404000127| 9.981200455815905|441.82677662870003|  524.000355172102|11.384858471731945|71.15328465919002|3.2938483740192734|         1|\n",
      "+---+----+------------------+------------------+------------------+------------------+------------------+------------------+-----------------+------------------+----------+\n",
      "only showing top 5 rows\n",
      "\n"
     ]
    }
   ],
   "source": [
    "file_path = '../data/water_potability_train.csv'\n",
    "df = load_data(spark, file_path)\n",
    "df.show(5)"
   ]
  },
  {
   "cell_type": "code",
   "execution_count": null,
   "id": "3514879e",
   "metadata": {},
   "outputs": [],
   "source": []
  }
 ],
 "metadata": {
  "kernelspec": {
   "display_name": "Python 3 (ipykernel)",
   "language": "python",
   "name": "python3"
  },
  "language_info": {
   "codemirror_mode": {
    "name": "ipython",
    "version": 3
   },
   "file_extension": ".py",
   "mimetype": "text/x-python",
   "name": "python",
   "nbconvert_exporter": "python",
   "pygments_lexer": "ipython3",
   "version": "3.9.5"
  }
 },
 "nbformat": 4,
 "nbformat_minor": 5
}
