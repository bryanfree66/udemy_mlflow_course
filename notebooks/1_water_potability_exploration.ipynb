{
 "cells": [
  {
   "cell_type": "markdown",
   "id": "b0c5ee00",
   "metadata": {},
   "source": [
    "# Water Potability Exploratory Notebook"
   ]
  },
  {
   "cell_type": "code",
   "execution_count": 1,
   "id": "45a5c645",
   "metadata": {},
   "outputs": [],
   "source": [
    "import pyspark\n",
    "import pyspark.sql.functions as F\n",
    "import pyspark.sql.types as T\n",
    "import sys\n",
    "from pyspark.sql import SparkSession, Window, DataFrame\n",
    "from pyspark.mllib.stat import Statistics\n",
    "\n",
    "sys.path.append('/home/jovyan/work')"
   ]
  },
  {
   "cell_type": "code",
   "execution_count": 2,
   "id": "c919e654",
   "metadata": {},
   "outputs": [],
   "source": [
    "spark = SparkSession.builder.getOrCreate()"
   ]
  },
  {
   "cell_type": "markdown",
   "id": "dfe8b3a7",
   "metadata": {},
   "source": [
    "## Step 1 - Exploration"
   ]
  },
  {
   "cell_type": "code",
   "execution_count": 3,
   "id": "a52e9042",
   "metadata": {},
   "outputs": [],
   "source": [
    "df = spark.read.csv('../data/water_potability.csv',inferSchema=True, header=True)"
   ]
  },
  {
   "cell_type": "code",
   "execution_count": 4,
   "id": "834ef4a6",
   "metadata": {},
   "outputs": [
    {
     "name": "stdout",
     "output_type": "stream",
     "text": [
      "Total record count: 3276\n"
     ]
    }
   ],
   "source": [
    "print('Total record count: {}'.format(df.count()))"
   ]
  },
  {
   "cell_type": "markdown",
   "id": "9a39cdf5",
   "metadata": {},
   "source": [
    "### Make a Train/Test Split"
   ]
  },
  {
   "cell_type": "code",
   "execution_count": 5,
   "id": "63db8c65",
   "metadata": {},
   "outputs": [],
   "source": [
    "df_train, df_test = df.randomSplit([0.7, 0.3], seed=42)\n",
    "\n",
    "# Save the train and test datasets\n",
    "df_train.write\\\n",
    "    .format('csv')\\\n",
    "    .mode('overwrite')\\\n",
    "    .option(\"header\", \"true\")\\\n",
    "    .save('../data/water_potability_train')\n",
    "\n",
    "df_test.write\\\n",
    "    .format('csv')\\\n",
    "    .mode('overwrite')\\\n",
    "    .option(\"header\", \"true\")\\\n",
    "    .save('../data/water_potability_test')\n",
    "\n",
    "# Get rid of df so we don't accidentally use it\n",
    "del df"
   ]
  },
  {
   "cell_type": "code",
   "execution_count": 6,
   "id": "fc86e434",
   "metadata": {
    "scrolled": true
   },
   "outputs": [
    {
     "name": "stdout",
     "output_type": "stream",
     "text": [
      "root\n",
      " |-- ph: double (nullable = true)\n",
      " |-- Hardness: double (nullable = true)\n",
      " |-- Solids: double (nullable = true)\n",
      " |-- Chloramines: double (nullable = true)\n",
      " |-- Sulfate: double (nullable = true)\n",
      " |-- Conductivity: double (nullable = true)\n",
      " |-- Organic_carbon: double (nullable = true)\n",
      " |-- Trihalomethanes: double (nullable = true)\n",
      " |-- Turbidity: double (nullable = true)\n",
      " |-- Potability: integer (nullable = true)\n",
      "\n"
     ]
    }
   ],
   "source": [
    "df_train.printSchema()"
   ]
  },
  {
   "cell_type": "code",
   "execution_count": 7,
   "id": "55ca8403",
   "metadata": {},
   "outputs": [
    {
     "name": "stdout",
     "output_type": "stream",
     "text": [
      "Train record count: 2353\n"
     ]
    }
   ],
   "source": [
    "print('Train record count: {}'.format(df_train.count()))"
   ]
  },
  {
   "cell_type": "markdown",
   "id": "f28fa0f0",
   "metadata": {},
   "source": [
    "### View Sample Rows"
   ]
  },
  {
   "cell_type": "code",
   "execution_count": 8,
   "id": "19bfe21a",
   "metadata": {},
   "outputs": [
    {
     "name": "stdout",
     "output_type": "stream",
     "text": [
      "+----+------------------+------------------+------------------+------------------+------------------+------------------+-----------------+------------------+----------+\n",
      "|  ph|          Hardness|            Solids|       Chloramines|           Sulfate|      Conductivity|    Organic_carbon|  Trihalomethanes|         Turbidity|Potability|\n",
      "+----+------------------+------------------+------------------+------------------+------------------+------------------+-----------------+------------------+----------+\n",
      "|null|  98.3679148956603| 28415.57583214058|10.558949998467961|  296.843207792478|505.24026927891407|12.882614472289333|85.32995534051292| 4.119087300328971|         1|\n",
      "|null|103.46475866009455| 27420.16742458204| 8.417305032089528|              null|485.97450045781375|11.351132730708514| 67.8699636759021| 4.620793451653219|         0|\n",
      "|null|108.91662923953173|14476.335695268315| 5.398162017711099|  281.198274407849| 512.2323064106689|15.013793389990155| 86.6714587149138| 3.895572062268123|         1|\n",
      "|null|113.17596460727073|  9943.92978526269| 6.337137942441213|354.29756524708256| 415.3383368798727| 19.67616854859483|23.07580599653685| 3.787475537347365|         1|\n",
      "|null| 114.7335449715346| 13677.99404000127| 9.981200455815905|441.82677662870003|  524.000355172102|11.384858471731945|71.15328465919002|3.2938483740192734|         1|\n",
      "+----+------------------+------------------+------------------+------------------+------------------+------------------+-----------------+------------------+----------+\n",
      "only showing top 5 rows\n",
      "\n"
     ]
    }
   ],
   "source": [
    "df_train.show(5)"
   ]
  },
  {
   "cell_type": "markdown",
   "id": "a6b06b31",
   "metadata": {},
   "source": [
    "So, this is a binary classification problem with target values of notckd (not chronic kidney disease) and ckd (chronic kidney disease). **Note:** There is an extraneous tab (\\t) on at lease one of the target values. We will have to fix that up."
   ]
  },
  {
   "cell_type": "markdown",
   "id": "bf48a975",
   "metadata": {},
   "source": [
    "### Target Column Distribution"
   ]
  },
  {
   "cell_type": "code",
   "execution_count": 9,
   "id": "141c9635",
   "metadata": {},
   "outputs": [
    {
     "data": {
      "text/html": [
       "<div>\n",
       "<style scoped>\n",
       "    .dataframe tbody tr th:only-of-type {\n",
       "        vertical-align: middle;\n",
       "    }\n",
       "\n",
       "    .dataframe tbody tr th {\n",
       "        vertical-align: top;\n",
       "    }\n",
       "\n",
       "    .dataframe thead th {\n",
       "        text-align: right;\n",
       "    }\n",
       "</style>\n",
       "<table border=\"1\" class=\"dataframe\">\n",
       "  <thead>\n",
       "    <tr style=\"text-align: right;\">\n",
       "      <th></th>\n",
       "      <th>Potability</th>\n",
       "      <th>count</th>\n",
       "    </tr>\n",
       "  </thead>\n",
       "  <tbody>\n",
       "    <tr>\n",
       "      <th>0</th>\n",
       "      <td>1</td>\n",
       "      <td>905</td>\n",
       "    </tr>\n",
       "    <tr>\n",
       "      <th>1</th>\n",
       "      <td>0</td>\n",
       "      <td>1448</td>\n",
       "    </tr>\n",
       "  </tbody>\n",
       "</table>\n",
       "</div>"
      ],
      "text/plain": [
       "   Potability  count\n",
       "0           1    905\n",
       "1           0   1448"
      ]
     },
     "execution_count": 9,
     "metadata": {},
     "output_type": "execute_result"
    }
   ],
   "source": [
    "freq_table = df_train.select(F.col(\"Potability\").cast(\"integer\")).groupBy(\"Potability\").count().toPandas()\n",
    "freq_table"
   ]
  },
  {
   "cell_type": "markdown",
   "id": "f65a3b18",
   "metadata": {},
   "source": [
    "This is a binary classification problem with a somewhat imbalanced dataset."
   ]
  },
  {
   "cell_type": "markdown",
   "id": "300ba493",
   "metadata": {},
   "source": [
    "### Summary Statistics"
   ]
  },
  {
   "cell_type": "code",
   "execution_count": 10,
   "id": "7a66a82b",
   "metadata": {},
   "outputs": [
    {
     "data": {
      "text/html": [
       "<div>\n",
       "<style scoped>\n",
       "    .dataframe tbody tr th:only-of-type {\n",
       "        vertical-align: middle;\n",
       "    }\n",
       "\n",
       "    .dataframe tbody tr th {\n",
       "        vertical-align: top;\n",
       "    }\n",
       "\n",
       "    .dataframe thead th {\n",
       "        text-align: right;\n",
       "    }\n",
       "</style>\n",
       "<table border=\"1\" class=\"dataframe\">\n",
       "  <thead>\n",
       "    <tr style=\"text-align: right;\">\n",
       "      <th></th>\n",
       "      <th>0</th>\n",
       "      <th>1</th>\n",
       "      <th>2</th>\n",
       "      <th>3</th>\n",
       "      <th>4</th>\n",
       "    </tr>\n",
       "  </thead>\n",
       "  <tbody>\n",
       "    <tr>\n",
       "      <th>summary</th>\n",
       "      <td>count</td>\n",
       "      <td>mean</td>\n",
       "      <td>stddev</td>\n",
       "      <td>min</td>\n",
       "      <td>max</td>\n",
       "    </tr>\n",
       "    <tr>\n",
       "      <th>ph</th>\n",
       "      <td>1987</td>\n",
       "      <td>7.065394544064872</td>\n",
       "      <td>1.612338730707101</td>\n",
       "      <td>0.0</td>\n",
       "      <td>13.541240236567981</td>\n",
       "    </tr>\n",
       "    <tr>\n",
       "      <th>Hardness</th>\n",
       "      <td>2353</td>\n",
       "      <td>196.85970996091234</td>\n",
       "      <td>32.83914120248886</td>\n",
       "      <td>47.432</td>\n",
       "      <td>323.124</td>\n",
       "    </tr>\n",
       "    <tr>\n",
       "      <th>Solids</th>\n",
       "      <td>2353</td>\n",
       "      <td>22131.281786788568</td>\n",
       "      <td>8719.781557904313</td>\n",
       "      <td>320.942611274359</td>\n",
       "      <td>61227.19600771213</td>\n",
       "    </tr>\n",
       "    <tr>\n",
       "      <th>Chloramines</th>\n",
       "      <td>2353</td>\n",
       "      <td>7.134664863542833</td>\n",
       "      <td>1.5939471833043641</td>\n",
       "      <td>0.3520000000000003</td>\n",
       "      <td>13.127000000000002</td>\n",
       "    </tr>\n",
       "    <tr>\n",
       "      <th>Sulfate</th>\n",
       "      <td>1812</td>\n",
       "      <td>333.8051408041043</td>\n",
       "      <td>41.550506072620976</td>\n",
       "      <td>129.00000000000003</td>\n",
       "      <td>481.03064230599716</td>\n",
       "    </tr>\n",
       "    <tr>\n",
       "      <th>Conductivity</th>\n",
       "      <td>2353</td>\n",
       "      <td>425.74124559272485</td>\n",
       "      <td>80.696216405619</td>\n",
       "      <td>181.483753985146</td>\n",
       "      <td>753.3426195583046</td>\n",
       "    </tr>\n",
       "    <tr>\n",
       "      <th>Organic_carbon</th>\n",
       "      <td>2353</td>\n",
       "      <td>14.237178459474823</td>\n",
       "      <td>3.272659356030207</td>\n",
       "      <td>2.1999999999999886</td>\n",
       "      <td>27.00670661116601</td>\n",
       "    </tr>\n",
       "    <tr>\n",
       "      <th>Trihalomethanes</th>\n",
       "      <td>2229</td>\n",
       "      <td>66.27958491438079</td>\n",
       "      <td>16.241327199504088</td>\n",
       "      <td>8.175876384274268</td>\n",
       "      <td>120.03007700530675</td>\n",
       "    </tr>\n",
       "    <tr>\n",
       "      <th>Turbidity</th>\n",
       "      <td>2353</td>\n",
       "      <td>3.969157865709428</td>\n",
       "      <td>0.7823760214428234</td>\n",
       "      <td>1.45</td>\n",
       "      <td>6.739</td>\n",
       "    </tr>\n",
       "    <tr>\n",
       "      <th>Potability</th>\n",
       "      <td>2353</td>\n",
       "      <td>0.38461538461538464</td>\n",
       "      <td>0.4866076679433938</td>\n",
       "      <td>0</td>\n",
       "      <td>1</td>\n",
       "    </tr>\n",
       "  </tbody>\n",
       "</table>\n",
       "</div>"
      ],
      "text/plain": [
       "                     0                    1                   2  \\\n",
       "summary          count                 mean              stddev   \n",
       "ph                1987    7.065394544064872   1.612338730707101   \n",
       "Hardness          2353   196.85970996091234   32.83914120248886   \n",
       "Solids            2353   22131.281786788568   8719.781557904313   \n",
       "Chloramines       2353    7.134664863542833  1.5939471833043641   \n",
       "Sulfate           1812    333.8051408041043  41.550506072620976   \n",
       "Conductivity      2353   425.74124559272485     80.696216405619   \n",
       "Organic_carbon    2353   14.237178459474823   3.272659356030207   \n",
       "Trihalomethanes   2229    66.27958491438079  16.241327199504088   \n",
       "Turbidity         2353    3.969157865709428  0.7823760214428234   \n",
       "Potability        2353  0.38461538461538464  0.4866076679433938   \n",
       "\n",
       "                                  3                   4  \n",
       "summary                         min                 max  \n",
       "ph                              0.0  13.541240236567981  \n",
       "Hardness                     47.432             323.124  \n",
       "Solids             320.942611274359   61227.19600771213  \n",
       "Chloramines      0.3520000000000003  13.127000000000002  \n",
       "Sulfate          129.00000000000003  481.03064230599716  \n",
       "Conductivity       181.483753985146   753.3426195583046  \n",
       "Organic_carbon   2.1999999999999886   27.00670661116601  \n",
       "Trihalomethanes   8.175876384274268  120.03007700530675  \n",
       "Turbidity                      1.45               6.739  \n",
       "Potability                        0                   1  "
      ]
     },
     "execution_count": 10,
     "metadata": {},
     "output_type": "execute_result"
    }
   ],
   "source": [
    "df_train.describe().toPandas().transpose()"
   ]
  },
  {
   "cell_type": "markdown",
   "id": "7b72a68c",
   "metadata": {},
   "source": [
    "### Null Counts"
   ]
  },
  {
   "cell_type": "code",
   "execution_count": 11,
   "id": "276d5d74",
   "metadata": {},
   "outputs": [
    {
     "name": "stdout",
     "output_type": "stream",
     "text": [
      "ph Null Count: 366\n",
      "Hardness Null Count: 0\n",
      "Solids Null Count: 0\n",
      "Chloramines Null Count: 0\n",
      "Sulfate Null Count: 541\n",
      "Conductivity Null Count: 0\n",
      "Organic_carbon Null Count: 0\n",
      "Trihalomethanes Null Count: 124\n",
      "Turbidity Null Count: 0\n",
      "Potability Null Count: 0\n"
     ]
    }
   ],
   "source": [
    "for col in df_train.columns:\n",
    "    print('{} Null Count: {}'.format(col, df_train.where(F.col(col).isNull()).count()))"
   ]
  },
  {
   "cell_type": "markdown",
   "id": "5734e8aa",
   "metadata": {},
   "source": [
    "We have nulls to deal with for pH, sulfates, and trihalomethanes."
   ]
  },
  {
   "cell_type": "markdown",
   "id": "6747defc",
   "metadata": {},
   "source": [
    "## Step 2 - Pipeline Development"
   ]
  },
  {
   "cell_type": "code",
   "execution_count": 12,
   "id": "a760433c",
   "metadata": {},
   "outputs": [],
   "source": [
    "from pyspark.ml.feature import Imputer\n",
    "from pyspark.ml import Pipeline\n",
    "from pyspark.ml.feature import VectorAssembler, PolynomialExpansion, StandardScaler"
   ]
  },
  {
   "cell_type": "markdown",
   "id": "bb48aa25",
   "metadata": {},
   "source": [
    "### Impute Missing Values"
   ]
  },
  {
   "cell_type": "code",
   "execution_count": 13,
   "id": "e6c113e3",
   "metadata": {},
   "outputs": [
    {
     "name": "stdout",
     "output_type": "stream",
     "text": [
      "+------------------+------------------+------------------+------------------+------------------+------------------+-----------------+------------------+-------------------+----------+\n",
      "|          Hardness|            Solids|       Chloramines|      Conductivity|    Organic_carbon|         Turbidity|           ph_imp|       Sulfate_imp|Trihalomethanes_imp|Potability|\n",
      "+------------------+------------------+------------------+------------------+------------------+------------------+-----------------+------------------+-------------------+----------+\n",
      "|  98.3679148956603| 28415.57583214058|10.558949998467961|505.24026927891407|12.882614472289333| 4.119087300328971|7.065394544064872|  296.843207792478|  85.32995534051292|         1|\n",
      "|103.46475866009455| 27420.16742458204| 8.417305032089528|485.97450045781375|11.351132730708514| 4.620793451653219|7.065394544064872| 333.8051408041043|   67.8699636759021|         0|\n",
      "|108.91662923953173|14476.335695268315| 5.398162017711099| 512.2323064106689|15.013793389990155| 3.895572062268123|7.065394544064872|  281.198274407849|   86.6714587149138|         1|\n",
      "|113.17596460727073|  9943.92978526269| 6.337137942441213| 415.3383368798727| 19.67616854859483| 3.787475537347365|7.065394544064872|354.29756524708256|  23.07580599653685|         1|\n",
      "| 114.7335449715346| 13677.99404000127| 9.981200455815905|  524.000355172102|11.384858471731945|3.2938483740192734|7.065394544064872|441.82677662870003|  71.15328465919002|         1|\n",
      "|116.90547929864171| 27151.31290232548|10.185348221604038| 372.0023185483472| 13.50723191973185|3.5162378046280005|7.065394544064872| 333.8051408041043|  63.27369649272616|         1|\n",
      "|129.88329651550774| 8906.975623139486| 6.827900879738104| 525.2247169516716| 17.65741087353132|3.8421139861035956|7.065394544064872| 327.5517886889327| 32.185378220561205|         1|\n",
      "|129.89057234567383|34415.853145873094| 6.321928990361139| 470.3291685421987| 18.59940992382127|  4.40558600033858|7.065394544064872| 304.5352242338838|  72.40363386888095|         0|\n",
      "|130.55856146255113|17429.584949659697|6.3176544269347366| 524.6456427603447|15.318048390229194| 5.541322279631281|7.065394544064872| 322.0595875907542|  75.37640813561349|         0|\n",
      "|134.67925657493728|30211.832990855128| 4.792361012310782| 391.8209641138389|18.999153524212886|3.8408887616175593|7.065394544064872|234.28562144513518|  66.27958491438079|         1|\n",
      "+------------------+------------------+------------------+------------------+------------------+------------------+-----------------+------------------+-------------------+----------+\n",
      "only showing top 10 rows\n",
      "\n"
     ]
    }
   ],
   "source": [
    "imputer = Imputer(\n",
    "    inputCols=['ph', 'Sulfate', 'Trihalomethanes'],\n",
    "    outputCols=['ph_imp', 'Sulfate_imp', 'Trihalomethanes_imp']\n",
    ")\n",
    "df_imputed = imputer.setStrategy(\"mean\").fit(df_train).transform(df_train)\n",
    "df_imputed = df_imputed.select('Hardness','Solids','Chloramines','Conductivity',\n",
    "                              'Organic_carbon','Turbidity','ph_imp', 'Sulfate_imp', \n",
    "                              'Trihalomethanes_imp', 'Potability')\n",
    "df_imputed.show(10)"
   ]
  },
  {
   "cell_type": "markdown",
   "id": "1462c0ea",
   "metadata": {},
   "source": [
    "### Create Feature Vector"
   ]
  },
  {
   "cell_type": "code",
   "execution_count": 14,
   "id": "7119de47",
   "metadata": {},
   "outputs": [
    {
     "data": {
      "text/plain": [
       "[Row(Features=DenseVector([98.3679, 28415.5758, 10.5589, 505.2403, 12.8826, 4.1191, 7.0654, 296.8432, 85.33]))]"
      ]
     },
     "execution_count": 14,
     "metadata": {},
     "output_type": "execute_result"
    }
   ],
   "source": [
    "vec_assembler = VectorAssembler(\n",
    "    inputCols=['Hardness','Solids','Chloramines','Conductivity','Organic_carbon',\n",
    "               'Turbidity','ph_imp', 'Sulfate_imp', 'Trihalomethanes_imp'],\n",
    "    outputCol='Features'\n",
    ")\n",
    "df_features = vec_assembler.transform(df_imputed)\n",
    "df_features.select('Features').take(1)"
   ]
  },
  {
   "cell_type": "markdown",
   "id": "79a15f2b",
   "metadata": {},
   "source": [
    "### Scale the Features"
   ]
  },
  {
   "cell_type": "code",
   "execution_count": 15,
   "id": "58e9e3f6",
   "metadata": {},
   "outputs": [
    {
     "data": {
      "text/plain": [
       "[Row(ScaledFeatures=DenseVector([-2.9992, 0.7207, 2.1483, 0.9852, -0.4139, 0.1916, -0.0, -1.0138, 1.2052]))]"
      ]
     },
     "execution_count": 15,
     "metadata": {},
     "output_type": "execute_result"
    }
   ],
   "source": [
    "scaler = StandardScaler(\n",
    "    inputCol='Features', outputCol='ScaledFeatures',\n",
    "    withStd=True, withMean=True\n",
    ")\n",
    "\n",
    "scalerFit = scaler.fit(df_features)\n",
    "\n",
    "df_features_scaled = scalerFit.transform(df_features)\n",
    "df_features_scaled.select('ScaledFeatures').take(1)"
   ]
  },
  {
   "cell_type": "markdown",
   "id": "bb9158c5",
   "metadata": {},
   "source": [
    "### Perform Polynomial Feature Expansion"
   ]
  },
  {
   "cell_type": "code",
   "execution_count": 16,
   "id": "ae36a498",
   "metadata": {},
   "outputs": [
    {
     "data": {
      "text/plain": [
       "[Row(PolynomialFeatures=DenseVector([-2.9992, 8.9953, -26.9789, 0.7207, -2.1615, 6.4829, 0.5194, -1.5578, 0.3743, 2.1483, -6.4432, 19.3247, 1.5483, -4.6436, 1.1158, 4.6152, -13.842, 3.3262, 9.9149, 0.9852, -2.9547, 8.8619, 0.71, -2.1295, 0.5117, 2.1164, -6.3476, 1.5253, 4.5467, 0.9705, -2.9109, 0.6995, 2.085, 0.9561, -0.4139, 1.2414, -3.7232, -0.2983, 0.8947, -0.215, -0.8892, 2.6669, -0.6408, -1.9103, -0.4078, 1.223, -0.2939, -0.876, -0.4017, 0.1713, -0.5138, 0.1235, 0.368, 0.1688, -0.0709, 0.1916, -0.5748, 1.7238, 0.1381, -0.4142, 0.0995, 0.4117, -1.2347, 0.2967, 0.8844, 0.1888, -0.5662, 0.1361, 0.4056, 0.186, -0.0793, 0.2379, -0.0572, -0.1704, -0.0781, 0.0328, 0.0367, -0.1101, 0.0265, 0.0789, 0.0362, -0.0152, 0.007, -0.0, 0.0, -0.0, -0.0, 0.0, -0.0, -0.0, 0.0, -0.0, -0.0, -0.0, 0.0, -0.0, -0.0, -0.0, 0.0, -0.0, 0.0, 0.0, 0.0, -0.0, -0.0, 0.0, -0.0, -0.0, -0.0, 0.0, -0.0, 0.0, -0.0, 0.0, 0.0, 0.0, -0.0, 0.0, -0.0, -1.0138, 3.0405, -9.1191, -0.7306, 2.1913, -0.5265, -2.1779, 6.5319, -1.5696, -4.6787, -0.9987, 2.9954, -0.7198, -2.1456, -0.9839, 0.4196, -1.2585, 0.3024, 0.9014, 0.4134, -0.1737, -0.1943, 0.5827, -0.14, -0.4174, -0.1914, 0.0804, -0.0372, 0.0, -0.0, 0.0, 0.0, 0.0, -0.0, 0.0, -0.0, 1.0277, -3.0824, 0.7407, 2.2079, 1.0125, -0.4254, 0.1969, -0.0, -1.0419, 1.2052, -3.6145, 10.8408, 0.8685, -2.605, 0.626, 2.589, -7.7651, 1.8659, 5.5621, 1.1873, -3.5609, 0.8557, 2.5506, 1.1697, -0.4988, 1.4961, -0.3595, -1.0716, -0.4914, 0.2065, 0.2309, -0.6927, 0.1664, 0.4961, 0.2275, -0.0956, 0.0443, -0.0, 0.0, -0.0, -0.0, -0.0, 0.0, -0.0, 0.0, -1.2217, 3.6643, -0.8805, -2.6247, -1.2036, 0.5057, -0.2341, 0.0, 1.2386, 1.4524, -4.3561, 1.0467, 3.1202, 1.4309, -0.6012, 0.2783, -0.0, -1.4724, 1.7504]))]"
      ]
     },
     "execution_count": 16,
     "metadata": {},
     "output_type": "execute_result"
    }
   ],
   "source": [
    "poly_feature_exp = PolynomialExpansion(degree=3, inputCol=\"ScaledFeatures\", outputCol=\"PolynomialFeatures\")\n",
    "poly_features = poly_feature_exp.transform(df_features_scaled)\n",
    "poly_features.select('PolynomialFeatures').take(1)"
   ]
  },
  {
   "cell_type": "code",
   "execution_count": null,
   "id": "2d63455b",
   "metadata": {},
   "outputs": [],
   "source": []
  }
 ],
 "metadata": {
  "kernelspec": {
   "display_name": "Python 3",
   "language": "python",
   "name": "python3"
  },
  "language_info": {
   "codemirror_mode": {
    "name": "ipython",
    "version": 3
   },
   "file_extension": ".py",
   "mimetype": "text/x-python",
   "name": "python",
   "nbconvert_exporter": "python",
   "pygments_lexer": "ipython3",
   "version": "3.9.5"
  }
 },
 "nbformat": 4,
 "nbformat_minor": 5
}
