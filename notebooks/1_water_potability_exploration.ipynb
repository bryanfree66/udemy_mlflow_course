{
 "cells": [
  {
   "cell_type": "markdown",
   "id": "b0c5ee00",
   "metadata": {},
   "source": [
    "# Water Potability Exploratory Notebook"
   ]
  },
  {
   "cell_type": "code",
   "execution_count": 1,
   "id": "45a5c645",
   "metadata": {},
   "outputs": [],
   "source": [
    "import pyspark\n",
    "from pyspark.sql import SparkSession, Window, DataFrame\n",
    "import pyspark.sql.functions as F\n",
    "import pyspark.sql.types as T\n",
    "from pyspark.mllib.stat import Statistics\n",
    "import sys\n",
    "\n",
    "sys.path.append('/home/jovyan/work')"
   ]
  },
  {
   "cell_type": "code",
   "execution_count": 2,
   "id": "c919e654",
   "metadata": {},
   "outputs": [],
   "source": [
    "spark = SparkSession.builder.getOrCreate()"
   ]
  },
  {
   "cell_type": "markdown",
   "id": "dfe8b3a7",
   "metadata": {},
   "source": [
    "## Load the Dataset"
   ]
  },
  {
   "cell_type": "code",
   "execution_count": 3,
   "id": "a52e9042",
   "metadata": {},
   "outputs": [],
   "source": [
    "df = spark.read.csv('../data/water_potability.csv',inferSchema=True, header=True)"
   ]
  },
  {
   "cell_type": "code",
   "execution_count": 4,
   "id": "834ef4a6",
   "metadata": {},
   "outputs": [
    {
     "name": "stdout",
     "output_type": "stream",
     "text": [
      "Total record count: 3276\n"
     ]
    }
   ],
   "source": [
    "print('Total record count: {}'.format(df.count()))"
   ]
  },
  {
   "cell_type": "markdown",
   "id": "9a39cdf5",
   "metadata": {},
   "source": [
    "### Make a Train/Test Split"
   ]
  },
  {
   "cell_type": "code",
   "execution_count": 5,
   "id": "63db8c65",
   "metadata": {},
   "outputs": [],
   "source": [
    "df_train, df_test = df.randomSplit([0.7, 0.3], seed=42)\n",
    "\n",
    "# Save the train and test datasets\n",
    "df_train.write\\\n",
    "    .format('csv')\\\n",
    "    .mode('overwrite')\\\n",
    "    .option(\"header\", \"true\")\\\n",
    "    .save('../data/water_potability_train')\n",
    "\n",
    "df_test.write\\\n",
    "    .format('csv')\\\n",
    "    .mode('overwrite')\\\n",
    "    .option(\"header\", \"true\")\\\n",
    "    .save('../data/water_potability_test')\n",
    "\n",
    "# Get rid of df so we don't accidentally use it\n",
    "del df"
   ]
  },
  {
   "cell_type": "markdown",
   "id": "f37fc6d1",
   "metadata": {},
   "source": [
    "## Exploring the Data\n",
    "### Data Definitions:\n",
    " 1. pH value: PH is an important parameter in evaluating the acid–base balance of water. It is also the indicator of acidic or alkaline condition of water status. WHO has recommended maximum permissible limit of pH from 6.5 to 8.5. The current investigation ranges were 6.52–6.83 which are in the range of WHO standards.\n",
    " \n",
    "2. Hardness: Hardness is mainly caused by calcium and magnesium salts. These salts are dissolved from geologic deposits through which water travels. The length of time water is in contact with hardness producing material helps determine how much hardness there is in raw water. Hardness was originally defined as the capacity of water to precipitate soap caused by Calcium and Magnesium.\n",
    "\n",
    "3. Solids (Total dissolved solids - TDS): Water has the ability to dissolve a wide range of inorganic and some organic minerals or salts such as potassium, calcium, sodium, bicarbonates, chlorides, magnesium, sulfates etc. These minerals produced un-wanted taste and diluted color in appearance of water. This is the important parameter for the use of water. The water with high TDS value indicates that water is highly mineralized. Desirable limit for TDS is 500 mg/l and maximum limit is 1000 mg/l which prescribed for drinking purpose.\n",
    "\n",
    "4. Chloramines: Chlorine and chloramine are the major disinfectants used in public water systems. Chloramines are most commonly formed when ammonia is added to chlorine to treat drinking water. Chlorine levels up to 4 milligrams per liter (mg/L or 4 parts per million (ppm)) are considered safe in drinking water.\n",
    "\n",
    "5. Sulfate:Sulfates are naturally occurring substances that are found in minerals, soil, and rocks. They are present in ambient air, groundwater, plants, and food. The principal commercial use of sulfate is in the chemical industry. Sulfate concentration in seawater is about 2,700 milligrams per liter (mg/L). It ranges from 3 to 30 mg/L in most freshwater supplies, although much higher concentrations (1000 mg/L) are found in some geographic locations.\n",
    "\n",
    "6. Conductivity: Pure water is not a good conductor of electric current rather’s a good insulator. Increase in ions concentration enhances the electrical conductivity of water. Generally, the amount of dissolved solids in water determines the electrical conductivity. Electrical conductivity (EC) actually measures the ionic process of a solution that enables it to transmit current. According to WHO standards, EC value should not exceeded 400 μS/cm.\n",
    "\n",
    "7. Organic_carbon: Total Organic Carbon (TOC) in source waters comes from decaying natural organic matter (NOM) as well as synthetic sources. TOC is a measure of the total amount of carbon in organic compounds in pure water. According to US EPA < 2 mg/L as TOC in treated / drinking water, and < 4 mg/Lit in source water which is use for treatment.\n",
    "\n",
    "8. Trihalomethanes: THMs are chemicals which may be found in water treated with chlorine. The concentration of THMs in drinking water varies according to the level of organic material in the water, the amount of chlorine required to treat the water, and the temperature of the water that is being treated. THM levels up to 80 ppm is considered safe in drinking water.\n",
    "\n",
    "9. Turbidity: The turbidity of water depends on the quantity of solid matter present in the suspended state. It is a measure of light emitting properties of water and the test is used to indicate the quality of waste discharge with respect to colloidal matter. The mean turbidity value obtained for Wondo Genet Campus (0.98 NTU) is lower than the WHO recommended value of 5.00 NTU.\n",
    "\n",
    "10. Potability: Indicates if water is safe for human consumption where 1 means Potable and 0 means Not potable.\n",
    "\n",
    "### View the Schema"
   ]
  },
  {
   "cell_type": "code",
   "execution_count": 6,
   "id": "fc86e434",
   "metadata": {
    "scrolled": true
   },
   "outputs": [
    {
     "name": "stdout",
     "output_type": "stream",
     "text": [
      "root\n",
      " |-- ph: double (nullable = true)\n",
      " |-- Hardness: double (nullable = true)\n",
      " |-- Solids: double (nullable = true)\n",
      " |-- Chloramines: double (nullable = true)\n",
      " |-- Sulfate: double (nullable = true)\n",
      " |-- Conductivity: double (nullable = true)\n",
      " |-- Organic_carbon: double (nullable = true)\n",
      " |-- Trihalomethanes: double (nullable = true)\n",
      " |-- Turbidity: double (nullable = true)\n",
      " |-- Potability: integer (nullable = true)\n",
      "\n"
     ]
    }
   ],
   "source": [
    "df_train.printSchema()"
   ]
  },
  {
   "cell_type": "code",
   "execution_count": 7,
   "id": "55ca8403",
   "metadata": {},
   "outputs": [
    {
     "name": "stdout",
     "output_type": "stream",
     "text": [
      "Train record count: 2353\n"
     ]
    }
   ],
   "source": [
    "print('Train record count: {}'.format(df_train.count()))"
   ]
  },
  {
   "cell_type": "markdown",
   "id": "f28fa0f0",
   "metadata": {},
   "source": [
    "### View Sample Rows"
   ]
  },
  {
   "cell_type": "code",
   "execution_count": 8,
   "id": "19bfe21a",
   "metadata": {},
   "outputs": [
    {
     "name": "stdout",
     "output_type": "stream",
     "text": [
      "+----+------------------+------------------+------------------+------------------+------------------+------------------+-----------------+------------------+----------+\n",
      "|  ph|          Hardness|            Solids|       Chloramines|           Sulfate|      Conductivity|    Organic_carbon|  Trihalomethanes|         Turbidity|Potability|\n",
      "+----+------------------+------------------+------------------+------------------+------------------+------------------+-----------------+------------------+----------+\n",
      "|null|  98.3679148956603| 28415.57583214058|10.558949998467961|  296.843207792478|505.24026927891407|12.882614472289333|85.32995534051292| 4.119087300328971|         1|\n",
      "|null|103.46475866009455| 27420.16742458204| 8.417305032089528|              null|485.97450045781375|11.351132730708514| 67.8699636759021| 4.620793451653219|         0|\n",
      "|null|108.91662923953173|14476.335695268315| 5.398162017711099|  281.198274407849| 512.2323064106689|15.013793389990155| 86.6714587149138| 3.895572062268123|         1|\n",
      "|null|113.17596460727073|  9943.92978526269| 6.337137942441213|354.29756524708256| 415.3383368798727| 19.67616854859483|23.07580599653685| 3.787475537347365|         1|\n",
      "|null| 114.7335449715346| 13677.99404000127| 9.981200455815905|441.82677662870003|  524.000355172102|11.384858471731945|71.15328465919002|3.2938483740192734|         1|\n",
      "+----+------------------+------------------+------------------+------------------+------------------+------------------+-----------------+------------------+----------+\n",
      "only showing top 5 rows\n",
      "\n"
     ]
    }
   ],
   "source": [
    "df_train.show(5)"
   ]
  },
  {
   "cell_type": "markdown",
   "id": "a6b06b31",
   "metadata": {},
   "source": [
    "So, this is a binary classification problem with target values of notckd (not chronic kidney disease) and ckd (chronic kidney disease). **Note:** There is an extraneous tab (\\t) on at lease one of the target values. We will have to fix that up."
   ]
  },
  {
   "cell_type": "markdown",
   "id": "bf48a975",
   "metadata": {},
   "source": [
    "## Target Column\n",
    "### Target Distribution"
   ]
  },
  {
   "cell_type": "code",
   "execution_count": 9,
   "id": "141c9635",
   "metadata": {},
   "outputs": [
    {
     "data": {
      "text/html": [
       "<div>\n",
       "<style scoped>\n",
       "    .dataframe tbody tr th:only-of-type {\n",
       "        vertical-align: middle;\n",
       "    }\n",
       "\n",
       "    .dataframe tbody tr th {\n",
       "        vertical-align: top;\n",
       "    }\n",
       "\n",
       "    .dataframe thead th {\n",
       "        text-align: right;\n",
       "    }\n",
       "</style>\n",
       "<table border=\"1\" class=\"dataframe\">\n",
       "  <thead>\n",
       "    <tr style=\"text-align: right;\">\n",
       "      <th></th>\n",
       "      <th>Potability</th>\n",
       "      <th>count</th>\n",
       "    </tr>\n",
       "  </thead>\n",
       "  <tbody>\n",
       "    <tr>\n",
       "      <th>0</th>\n",
       "      <td>1</td>\n",
       "      <td>905</td>\n",
       "    </tr>\n",
       "    <tr>\n",
       "      <th>1</th>\n",
       "      <td>0</td>\n",
       "      <td>1448</td>\n",
       "    </tr>\n",
       "  </tbody>\n",
       "</table>\n",
       "</div>"
      ],
      "text/plain": [
       "   Potability  count\n",
       "0           1    905\n",
       "1           0   1448"
      ]
     },
     "execution_count": 9,
     "metadata": {},
     "output_type": "execute_result"
    }
   ],
   "source": [
    "freq_table = df_train.select(F.col(\"Potability\").cast(\"integer\")).groupBy(\"Potability\").count().toPandas()\n",
    "freq_table"
   ]
  },
  {
   "cell_type": "markdown",
   "id": "f65a3b18",
   "metadata": {},
   "source": [
    "This is a binary classification problem with a somewhat imbalanced dataset."
   ]
  },
  {
   "cell_type": "markdown",
   "id": "300ba493",
   "metadata": {},
   "source": [
    "## Continuous Variables\n",
    "### Summary Statistics"
   ]
  },
  {
   "cell_type": "code",
   "execution_count": 10,
   "id": "7a66a82b",
   "metadata": {},
   "outputs": [
    {
     "data": {
      "text/html": [
       "<div>\n",
       "<style scoped>\n",
       "    .dataframe tbody tr th:only-of-type {\n",
       "        vertical-align: middle;\n",
       "    }\n",
       "\n",
       "    .dataframe tbody tr th {\n",
       "        vertical-align: top;\n",
       "    }\n",
       "\n",
       "    .dataframe thead th {\n",
       "        text-align: right;\n",
       "    }\n",
       "</style>\n",
       "<table border=\"1\" class=\"dataframe\">\n",
       "  <thead>\n",
       "    <tr style=\"text-align: right;\">\n",
       "      <th></th>\n",
       "      <th>0</th>\n",
       "      <th>1</th>\n",
       "      <th>2</th>\n",
       "      <th>3</th>\n",
       "      <th>4</th>\n",
       "    </tr>\n",
       "  </thead>\n",
       "  <tbody>\n",
       "    <tr>\n",
       "      <th>summary</th>\n",
       "      <td>count</td>\n",
       "      <td>mean</td>\n",
       "      <td>stddev</td>\n",
       "      <td>min</td>\n",
       "      <td>max</td>\n",
       "    </tr>\n",
       "    <tr>\n",
       "      <th>ph</th>\n",
       "      <td>1987</td>\n",
       "      <td>7.065394544064872</td>\n",
       "      <td>1.612338730707101</td>\n",
       "      <td>0.0</td>\n",
       "      <td>13.541240236567981</td>\n",
       "    </tr>\n",
       "    <tr>\n",
       "      <th>Hardness</th>\n",
       "      <td>2353</td>\n",
       "      <td>196.85970996091234</td>\n",
       "      <td>32.83914120248886</td>\n",
       "      <td>47.432</td>\n",
       "      <td>323.124</td>\n",
       "    </tr>\n",
       "    <tr>\n",
       "      <th>Solids</th>\n",
       "      <td>2353</td>\n",
       "      <td>22131.281786788568</td>\n",
       "      <td>8719.781557904313</td>\n",
       "      <td>320.942611274359</td>\n",
       "      <td>61227.19600771213</td>\n",
       "    </tr>\n",
       "    <tr>\n",
       "      <th>Chloramines</th>\n",
       "      <td>2353</td>\n",
       "      <td>7.134664863542833</td>\n",
       "      <td>1.5939471833043641</td>\n",
       "      <td>0.3520000000000003</td>\n",
       "      <td>13.127000000000002</td>\n",
       "    </tr>\n",
       "    <tr>\n",
       "      <th>Sulfate</th>\n",
       "      <td>1812</td>\n",
       "      <td>333.8051408041043</td>\n",
       "      <td>41.550506072620976</td>\n",
       "      <td>129.00000000000003</td>\n",
       "      <td>481.03064230599716</td>\n",
       "    </tr>\n",
       "    <tr>\n",
       "      <th>Conductivity</th>\n",
       "      <td>2353</td>\n",
       "      <td>425.74124559272485</td>\n",
       "      <td>80.696216405619</td>\n",
       "      <td>181.483753985146</td>\n",
       "      <td>753.3426195583046</td>\n",
       "    </tr>\n",
       "    <tr>\n",
       "      <th>Organic_carbon</th>\n",
       "      <td>2353</td>\n",
       "      <td>14.237178459474823</td>\n",
       "      <td>3.272659356030207</td>\n",
       "      <td>2.1999999999999886</td>\n",
       "      <td>27.00670661116601</td>\n",
       "    </tr>\n",
       "    <tr>\n",
       "      <th>Trihalomethanes</th>\n",
       "      <td>2229</td>\n",
       "      <td>66.27958491438079</td>\n",
       "      <td>16.241327199504088</td>\n",
       "      <td>8.175876384274268</td>\n",
       "      <td>120.03007700530675</td>\n",
       "    </tr>\n",
       "    <tr>\n",
       "      <th>Turbidity</th>\n",
       "      <td>2353</td>\n",
       "      <td>3.969157865709428</td>\n",
       "      <td>0.7823760214428234</td>\n",
       "      <td>1.45</td>\n",
       "      <td>6.739</td>\n",
       "    </tr>\n",
       "  </tbody>\n",
       "</table>\n",
       "</div>"
      ],
      "text/plain": [
       "                     0                   1                   2  \\\n",
       "summary          count                mean              stddev   \n",
       "ph                1987   7.065394544064872   1.612338730707101   \n",
       "Hardness          2353  196.85970996091234   32.83914120248886   \n",
       "Solids            2353  22131.281786788568   8719.781557904313   \n",
       "Chloramines       2353   7.134664863542833  1.5939471833043641   \n",
       "Sulfate           1812   333.8051408041043  41.550506072620976   \n",
       "Conductivity      2353  425.74124559272485     80.696216405619   \n",
       "Organic_carbon    2353  14.237178459474823   3.272659356030207   \n",
       "Trihalomethanes   2229   66.27958491438079  16.241327199504088   \n",
       "Turbidity         2353   3.969157865709428  0.7823760214428234   \n",
       "\n",
       "                                  3                   4  \n",
       "summary                         min                 max  \n",
       "ph                              0.0  13.541240236567981  \n",
       "Hardness                     47.432             323.124  \n",
       "Solids             320.942611274359   61227.19600771213  \n",
       "Chloramines      0.3520000000000003  13.127000000000002  \n",
       "Sulfate          129.00000000000003  481.03064230599716  \n",
       "Conductivity       181.483753985146   753.3426195583046  \n",
       "Organic_carbon   2.1999999999999886   27.00670661116601  \n",
       "Trihalomethanes   8.175876384274268  120.03007700530675  \n",
       "Turbidity                      1.45               6.739  "
      ]
     },
     "execution_count": 10,
     "metadata": {},
     "output_type": "execute_result"
    }
   ],
   "source": [
    "df_features = df_train.select('ph','Hardness','Solids',\n",
    "                'Chloramines','Sulfate','Conductivity',\n",
    "                'Organic_carbon','Trihalomethanes','Turbidity')\n",
    "df_features.describe().toPandas().transpose()"
   ]
  },
  {
   "cell_type": "markdown",
   "id": "7b72a68c",
   "metadata": {},
   "source": [
    "### Null Counts"
   ]
  },
  {
   "cell_type": "code",
   "execution_count": 11,
   "id": "276d5d74",
   "metadata": {},
   "outputs": [
    {
     "name": "stdout",
     "output_type": "stream",
     "text": [
      "ph Null Count: 366\n",
      "Hardness Null Count: 0\n",
      "Solids Null Count: 0\n",
      "Chloramines Null Count: 0\n",
      "Sulfate Null Count: 541\n",
      "Conductivity Null Count: 0\n",
      "Organic_carbon Null Count: 0\n",
      "Trihalomethanes Null Count: 124\n",
      "Turbidity Null Count: 0\n"
     ]
    }
   ],
   "source": [
    "for col in df_features.columns:\n",
    "    print('{} Null Count: {}'.format(col, df_features.where(F.col(col).isNull()).count()))"
   ]
  },
  {
   "cell_type": "markdown",
   "id": "5734e8aa",
   "metadata": {},
   "source": [
    "We have nulls to deal with for pH, sulfates, and trihalomethanes."
   ]
  },
  {
   "cell_type": "code",
   "execution_count": null,
   "id": "8302b674",
   "metadata": {},
   "outputs": [],
   "source": []
  }
 ],
 "metadata": {
  "kernelspec": {
   "display_name": "Python 3",
   "language": "python",
   "name": "python3"
  },
  "language_info": {
   "codemirror_mode": {
    "name": "ipython",
    "version": 3
   },
   "file_extension": ".py",
   "mimetype": "text/x-python",
   "name": "python",
   "nbconvert_exporter": "python",
   "pygments_lexer": "ipython3",
   "version": "3.9.5"
  }
 },
 "nbformat": 4,
 "nbformat_minor": 5
}
