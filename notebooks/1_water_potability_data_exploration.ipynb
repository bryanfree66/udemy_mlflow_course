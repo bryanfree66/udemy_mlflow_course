{
 "cells": [
  {
   "cell_type": "markdown",
   "id": "b0c5ee00",
   "metadata": {},
   "source": [
    "# Water Potability Data Exploration Notebook"
   ]
  },
  {
   "cell_type": "code",
   "execution_count": 12,
   "id": "45a5c645",
   "metadata": {},
   "outputs": [],
   "source": [
    "import pyspark\n",
    "import pyspark.sql.functions as F\n",
    "import pyspark.sql.types as T\n",
    "import sys\n",
    "from pyspark.sql import SparkSession, Window, DataFrame\n",
    "from pyspark.mllib.stat import Statistics\n",
    "\n",
    "sys.path.append('/home/jovyan/work')"
   ]
  },
  {
   "cell_type": "code",
   "execution_count": 13,
   "id": "c919e654",
   "metadata": {},
   "outputs": [],
   "source": [
    "spark = SparkSession.builder.getOrCreate()"
   ]
  },
  {
   "cell_type": "markdown",
   "id": "dfe8b3a7",
   "metadata": {},
   "source": [
    "## Step 1 - Exploration"
   ]
  },
  {
   "cell_type": "code",
   "execution_count": 14,
   "id": "a52e9042",
   "metadata": {},
   "outputs": [],
   "source": [
    "df = spark.read.csv('../data/water_potability.csv',inferSchema=True, header=True)"
   ]
  },
  {
   "cell_type": "code",
   "execution_count": 15,
   "id": "834ef4a6",
   "metadata": {},
   "outputs": [
    {
     "name": "stdout",
     "output_type": "stream",
     "text": [
      "Total record count: 3276\n"
     ]
    }
   ],
   "source": [
    "print('Total record count: {}'.format(df.count()))"
   ]
  },
  {
   "cell_type": "markdown",
   "id": "9a39cdf5",
   "metadata": {},
   "source": [
    "### Make a Train/Test Split"
   ]
  },
  {
   "cell_type": "code",
   "execution_count": 16,
   "id": "63db8c65",
   "metadata": {},
   "outputs": [],
   "source": [
    "df_train, df_test = df.randomSplit([0.7, 0.3], seed=42)\n",
    "\n",
    "# Save the train and test datasets\n",
    "df_train.toPandas().to_csv('../data/water_potability_train.csv')\n",
    "\n",
    "df_test.toPandas().to_csv('../data/water_potability_test.csv')\n",
    "\n",
    "# Get rid of df so we don't accidentally use it\n",
    "del df"
   ]
  },
  {
   "cell_type": "code",
   "execution_count": 17,
   "id": "fc86e434",
   "metadata": {
    "scrolled": true
   },
   "outputs": [
    {
     "name": "stdout",
     "output_type": "stream",
     "text": [
      "root\n",
      " |-- ph: double (nullable = true)\n",
      " |-- Hardness: double (nullable = true)\n",
      " |-- Solids: double (nullable = true)\n",
      " |-- Chloramines: double (nullable = true)\n",
      " |-- Sulfate: double (nullable = true)\n",
      " |-- Conductivity: double (nullable = true)\n",
      " |-- Organic_carbon: double (nullable = true)\n",
      " |-- Trihalomethanes: double (nullable = true)\n",
      " |-- Turbidity: double (nullable = true)\n",
      " |-- Potability: integer (nullable = true)\n",
      "\n"
     ]
    }
   ],
   "source": [
    "df_train.printSchema()"
   ]
  },
  {
   "cell_type": "code",
   "execution_count": 18,
   "id": "55ca8403",
   "metadata": {},
   "outputs": [
    {
     "name": "stdout",
     "output_type": "stream",
     "text": [
      "Train record count: 2353\n"
     ]
    }
   ],
   "source": [
    "print('Train record count: {}'.format(df_train.count()))"
   ]
  },
  {
   "cell_type": "markdown",
   "id": "f28fa0f0",
   "metadata": {},
   "source": [
    "### View Sample Rows"
   ]
  },
  {
   "cell_type": "code",
   "execution_count": 19,
   "id": "19bfe21a",
   "metadata": {},
   "outputs": [
    {
     "name": "stdout",
     "output_type": "stream",
     "text": [
      "+----+------------------+------------------+------------------+------------------+------------------+------------------+-----------------+------------------+----------+\n",
      "|  ph|          Hardness|            Solids|       Chloramines|           Sulfate|      Conductivity|    Organic_carbon|  Trihalomethanes|         Turbidity|Potability|\n",
      "+----+------------------+------------------+------------------+------------------+------------------+------------------+-----------------+------------------+----------+\n",
      "|null|  98.3679148956603| 28415.57583214058|10.558949998467961|  296.843207792478|505.24026927891407|12.882614472289333|85.32995534051292| 4.119087300328971|         1|\n",
      "|null|103.46475866009455| 27420.16742458204| 8.417305032089528|              null|485.97450045781375|11.351132730708514| 67.8699636759021| 4.620793451653219|         0|\n",
      "|null|108.91662923953173|14476.335695268315| 5.398162017711099|  281.198274407849| 512.2323064106689|15.013793389990155| 86.6714587149138| 3.895572062268123|         1|\n",
      "|null|113.17596460727073|  9943.92978526269| 6.337137942441213|354.29756524708256| 415.3383368798727| 19.67616854859483|23.07580599653685| 3.787475537347365|         1|\n",
      "|null| 114.7335449715346| 13677.99404000127| 9.981200455815905|441.82677662870003|  524.000355172102|11.384858471731945|71.15328465919002|3.2938483740192734|         1|\n",
      "+----+------------------+------------------+------------------+------------------+------------------+------------------+-----------------+------------------+----------+\n",
      "only showing top 5 rows\n",
      "\n"
     ]
    }
   ],
   "source": [
    "df_train.show(5)"
   ]
  },
  {
   "cell_type": "markdown",
   "id": "a6b06b31",
   "metadata": {},
   "source": [
    "So, this is a binary classification problem with target values of notckd (not chronic kidney disease) and ckd (chronic kidney disease). **Note:** There is an extraneous tab (\\t) on at lease one of the target values. We will have to fix that up."
   ]
  },
  {
   "cell_type": "markdown",
   "id": "bf48a975",
   "metadata": {},
   "source": [
    "### Target Column Distribution"
   ]
  },
  {
   "cell_type": "code",
   "execution_count": 20,
   "id": "141c9635",
   "metadata": {},
   "outputs": [
    {
     "data": {
      "text/html": [
       "<div>\n",
       "<style scoped>\n",
       "    .dataframe tbody tr th:only-of-type {\n",
       "        vertical-align: middle;\n",
       "    }\n",
       "\n",
       "    .dataframe tbody tr th {\n",
       "        vertical-align: top;\n",
       "    }\n",
       "\n",
       "    .dataframe thead th {\n",
       "        text-align: right;\n",
       "    }\n",
       "</style>\n",
       "<table border=\"1\" class=\"dataframe\">\n",
       "  <thead>\n",
       "    <tr style=\"text-align: right;\">\n",
       "      <th></th>\n",
       "      <th>Potability</th>\n",
       "      <th>count</th>\n",
       "    </tr>\n",
       "  </thead>\n",
       "  <tbody>\n",
       "    <tr>\n",
       "      <th>0</th>\n",
       "      <td>1</td>\n",
       "      <td>905</td>\n",
       "    </tr>\n",
       "    <tr>\n",
       "      <th>1</th>\n",
       "      <td>0</td>\n",
       "      <td>1448</td>\n",
       "    </tr>\n",
       "  </tbody>\n",
       "</table>\n",
       "</div>"
      ],
      "text/plain": [
       "   Potability  count\n",
       "0           1    905\n",
       "1           0   1448"
      ]
     },
     "execution_count": 20,
     "metadata": {},
     "output_type": "execute_result"
    }
   ],
   "source": [
    "freq_table = df_train.select(F.col(\"Potability\").cast(\"integer\")).groupBy(\"Potability\").count().toPandas()\n",
    "freq_table"
   ]
  },
  {
   "cell_type": "markdown",
   "id": "f65a3b18",
   "metadata": {},
   "source": [
    "This is a binary classification problem with a somewhat imbalanced dataset."
   ]
  },
  {
   "cell_type": "markdown",
   "id": "300ba493",
   "metadata": {},
   "source": [
    "### Summary Statistics"
   ]
  },
  {
   "cell_type": "code",
   "execution_count": 21,
   "id": "7a66a82b",
   "metadata": {},
   "outputs": [
    {
     "data": {
      "text/html": [
       "<div>\n",
       "<style scoped>\n",
       "    .dataframe tbody tr th:only-of-type {\n",
       "        vertical-align: middle;\n",
       "    }\n",
       "\n",
       "    .dataframe tbody tr th {\n",
       "        vertical-align: top;\n",
       "    }\n",
       "\n",
       "    .dataframe thead th {\n",
       "        text-align: right;\n",
       "    }\n",
       "</style>\n",
       "<table border=\"1\" class=\"dataframe\">\n",
       "  <thead>\n",
       "    <tr style=\"text-align: right;\">\n",
       "      <th></th>\n",
       "      <th>0</th>\n",
       "      <th>1</th>\n",
       "      <th>2</th>\n",
       "      <th>3</th>\n",
       "      <th>4</th>\n",
       "    </tr>\n",
       "  </thead>\n",
       "  <tbody>\n",
       "    <tr>\n",
       "      <th>summary</th>\n",
       "      <td>count</td>\n",
       "      <td>mean</td>\n",
       "      <td>stddev</td>\n",
       "      <td>min</td>\n",
       "      <td>max</td>\n",
       "    </tr>\n",
       "    <tr>\n",
       "      <th>ph</th>\n",
       "      <td>1987</td>\n",
       "      <td>7.065394544064872</td>\n",
       "      <td>1.612338730707101</td>\n",
       "      <td>0.0</td>\n",
       "      <td>13.541240236567981</td>\n",
       "    </tr>\n",
       "    <tr>\n",
       "      <th>Hardness</th>\n",
       "      <td>2353</td>\n",
       "      <td>196.85970996091234</td>\n",
       "      <td>32.83914120248886</td>\n",
       "      <td>47.432</td>\n",
       "      <td>323.124</td>\n",
       "    </tr>\n",
       "    <tr>\n",
       "      <th>Solids</th>\n",
       "      <td>2353</td>\n",
       "      <td>22131.281786788568</td>\n",
       "      <td>8719.781557904313</td>\n",
       "      <td>320.942611274359</td>\n",
       "      <td>61227.19600771213</td>\n",
       "    </tr>\n",
       "    <tr>\n",
       "      <th>Chloramines</th>\n",
       "      <td>2353</td>\n",
       "      <td>7.134664863542833</td>\n",
       "      <td>1.5939471833043641</td>\n",
       "      <td>0.3520000000000003</td>\n",
       "      <td>13.127000000000002</td>\n",
       "    </tr>\n",
       "    <tr>\n",
       "      <th>Sulfate</th>\n",
       "      <td>1812</td>\n",
       "      <td>333.8051408041043</td>\n",
       "      <td>41.550506072620976</td>\n",
       "      <td>129.00000000000003</td>\n",
       "      <td>481.03064230599716</td>\n",
       "    </tr>\n",
       "    <tr>\n",
       "      <th>Conductivity</th>\n",
       "      <td>2353</td>\n",
       "      <td>425.74124559272485</td>\n",
       "      <td>80.696216405619</td>\n",
       "      <td>181.483753985146</td>\n",
       "      <td>753.3426195583046</td>\n",
       "    </tr>\n",
       "    <tr>\n",
       "      <th>Organic_carbon</th>\n",
       "      <td>2353</td>\n",
       "      <td>14.237178459474823</td>\n",
       "      <td>3.272659356030207</td>\n",
       "      <td>2.1999999999999886</td>\n",
       "      <td>27.00670661116601</td>\n",
       "    </tr>\n",
       "    <tr>\n",
       "      <th>Trihalomethanes</th>\n",
       "      <td>2229</td>\n",
       "      <td>66.27958491438079</td>\n",
       "      <td>16.241327199504088</td>\n",
       "      <td>8.175876384274268</td>\n",
       "      <td>120.03007700530675</td>\n",
       "    </tr>\n",
       "    <tr>\n",
       "      <th>Turbidity</th>\n",
       "      <td>2353</td>\n",
       "      <td>3.969157865709428</td>\n",
       "      <td>0.7823760214428234</td>\n",
       "      <td>1.45</td>\n",
       "      <td>6.739</td>\n",
       "    </tr>\n",
       "    <tr>\n",
       "      <th>Potability</th>\n",
       "      <td>2353</td>\n",
       "      <td>0.38461538461538464</td>\n",
       "      <td>0.4866076679433938</td>\n",
       "      <td>0</td>\n",
       "      <td>1</td>\n",
       "    </tr>\n",
       "  </tbody>\n",
       "</table>\n",
       "</div>"
      ],
      "text/plain": [
       "                     0                    1                   2  \\\n",
       "summary          count                 mean              stddev   \n",
       "ph                1987    7.065394544064872   1.612338730707101   \n",
       "Hardness          2353   196.85970996091234   32.83914120248886   \n",
       "Solids            2353   22131.281786788568   8719.781557904313   \n",
       "Chloramines       2353    7.134664863542833  1.5939471833043641   \n",
       "Sulfate           1812    333.8051408041043  41.550506072620976   \n",
       "Conductivity      2353   425.74124559272485     80.696216405619   \n",
       "Organic_carbon    2353   14.237178459474823   3.272659356030207   \n",
       "Trihalomethanes   2229    66.27958491438079  16.241327199504088   \n",
       "Turbidity         2353    3.969157865709428  0.7823760214428234   \n",
       "Potability        2353  0.38461538461538464  0.4866076679433938   \n",
       "\n",
       "                                  3                   4  \n",
       "summary                         min                 max  \n",
       "ph                              0.0  13.541240236567981  \n",
       "Hardness                     47.432             323.124  \n",
       "Solids             320.942611274359   61227.19600771213  \n",
       "Chloramines      0.3520000000000003  13.127000000000002  \n",
       "Sulfate          129.00000000000003  481.03064230599716  \n",
       "Conductivity       181.483753985146   753.3426195583046  \n",
       "Organic_carbon   2.1999999999999886   27.00670661116601  \n",
       "Trihalomethanes   8.175876384274268  120.03007700530675  \n",
       "Turbidity                      1.45               6.739  \n",
       "Potability                        0                   1  "
      ]
     },
     "execution_count": 21,
     "metadata": {},
     "output_type": "execute_result"
    }
   ],
   "source": [
    "df_train.describe().toPandas().transpose()"
   ]
  },
  {
   "cell_type": "markdown",
   "id": "7b72a68c",
   "metadata": {},
   "source": [
    "### Null Counts"
   ]
  },
  {
   "cell_type": "code",
   "execution_count": 22,
   "id": "55665f92",
   "metadata": {},
   "outputs": [
    {
     "name": "stdout",
     "output_type": "stream",
     "text": [
      "ph Null Count: 366\n",
      "Hardness Null Count: 0\n",
      "Solids Null Count: 0\n",
      "Chloramines Null Count: 0\n",
      "Sulfate Null Count: 541\n",
      "Conductivity Null Count: 0\n",
      "Organic_carbon Null Count: 0\n",
      "Trihalomethanes Null Count: 124\n",
      "Turbidity Null Count: 0\n",
      "Potability Null Count: 0\n"
     ]
    }
   ],
   "source": [
    "for col in df_train.columns:\n",
    "    print('{} Null Count: {}'.format(col, df_train.where(F.col(col).isNull()).count()))"
   ]
  },
  {
   "cell_type": "markdown",
   "id": "5734e8aa",
   "metadata": {},
   "source": [
    "We have nulls to deal with for pH, sulfates, and trihalomethanes."
   ]
  },
  {
   "cell_type": "code",
   "execution_count": null,
   "id": "5fb2809c",
   "metadata": {},
   "outputs": [],
   "source": []
  }
 ],
 "metadata": {
  "kernelspec": {
   "display_name": "Python 3 (ipykernel)",
   "language": "python",
   "name": "python3"
  },
  "language_info": {
   "codemirror_mode": {
    "name": "ipython",
    "version": 3
   },
   "file_extension": ".py",
   "mimetype": "text/x-python",
   "name": "python",
   "nbconvert_exporter": "python",
   "pygments_lexer": "ipython3",
   "version": "3.9.5"
  }
 },
 "nbformat": 4,
 "nbformat_minor": 5
}
