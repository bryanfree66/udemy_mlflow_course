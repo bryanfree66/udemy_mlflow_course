{
 "cells": [
  {
   "cell_type": "code",
   "execution_count": 1,
   "id": "3f1b2ed9",
   "metadata": {},
   "outputs": [],
   "source": [
    "import IPython"
   ]
  },
  {
   "cell_type": "code",
   "execution_count": 3,
   "id": "3a391919",
   "metadata": {},
   "outputs": [
    {
     "name": "stdout",
     "output_type": "stream",
     "text": [
      "Hashed password = sha1:1293e8f534bf:4629aec7d0f994ec913e5205e243014a9e68ff44\n"
     ]
    }
   ],
   "source": [
    "password = IPython.lib.passwd(\"mypassword\")\n",
    "print('Hashed password = {}'.format(password))"
   ]
  },
  {
   "cell_type": "code",
   "execution_count": null,
   "id": "8fd03187",
   "metadata": {},
   "outputs": [],
   "source": []
  }
 ],
 "metadata": {
  "kernelspec": {
   "display_name": "Python 3",
   "language": "python",
   "name": "python3"
  },
  "language_info": {
   "codemirror_mode": {
    "name": "ipython",
    "version": 3
   },
   "file_extension": ".py",
   "mimetype": "text/x-python",
   "name": "python",
   "nbconvert_exporter": "python",
   "pygments_lexer": "ipython3",
   "version": "3.9.5"
  }
 },
 "nbformat": 4,
 "nbformat_minor": 5
}
